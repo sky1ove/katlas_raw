{
 "cells": [
  {
   "cell_type": "markdown",
   "id": "885df89f-5fed-48c2-b672-e4378c9bc57d",
   "metadata": {},
   "source": [
    "# Compare CDDM and PSPA in Ser/Thr kinases"
   ]
  },
  {
   "cell_type": "markdown",
   "id": "537e3d49-0afc-4483-b852-f4ac4e6a2203",
   "metadata": {},
   "source": [
    "## Setup"
   ]
  },
  {
   "cell_type": "code",
   "execution_count": null,
   "id": "ea4d370e-a187-4695-b412-34bb0aeafab5",
   "metadata": {},
   "outputs": [],
   "source": [
    "from katlas.imports import *\n",
    "import os, seaborn as sns\n",
    "\n",
    "from fastbook import *\n",
    "from scipy.stats import spearmanr, pearsonr\n",
    "\n",
    "from PIL import Image\n",
    "from tqdm import tqdm\n",
    "\n",
    "set_sns()"
   ]
  },
  {
   "cell_type": "markdown",
   "id": "0803b8f3-234b-415c-a38e-df9511f87576",
   "metadata": {},
   "source": [
    "## Load data"
   ]
  },
  {
   "cell_type": "code",
   "execution_count": null,
   "id": "7890e403-b5dd-4aa8-9487-7533707fe2fd",
   "metadata": {},
   "outputs": [],
   "source": [
    "df = Data.get_ks_dataset()\n",
    "df['SUB'] = df.substrate.str.upper()"
   ]
  },
  {
   "cell_type": "markdown",
   "id": "a14a4cd6-722d-429e-bd8a-6934943d8e1f",
   "metadata": {},
   "source": [
    "## Get overlap kinase"
   ]
  },
  {
   "cell_type": "code",
   "execution_count": null,
   "id": "3bc601ba-7544-4d04-8327-4b840bc738cb",
   "metadata": {},
   "outputs": [],
   "source": [
    "# normalized PSPA data\n",
    "norm = pd.read_csv('raw/pspa_st_norm.csv')\n",
    "raw = pd.read_csv('raw/pspa_st_raw.csv')"
   ]
  },
  {
   "cell_type": "code",
   "execution_count": null,
   "id": "115a6657-6914-4446-9e7f-4100de7ba1cd",
   "metadata": {},
   "outputs": [],
   "source": [
    "#get overlap and count\n",
    "overlap_cnt = df[df.kinase_paper.isin(raw.kinase)].kinase_paper.value_counts()"
   ]
  },
  {
   "cell_type": "code",
   "execution_count": null,
   "id": "fc5f2d87-ddbd-44d4-ba08-5fdaea5af2a4",
   "metadata": {},
   "outputs": [],
   "source": [
    "overlap_cnt"
   ]
  },
  {
   "cell_type": "code",
   "execution_count": null,
   "id": "8704ce20-56e5-4807-9422-f16a36a30527",
   "metadata": {},
   "outputs": [],
   "source": [
    "overlap_cnt = overlap_cnt[overlap_cnt>100]"
   ]
  },
  {
   "cell_type": "code",
   "execution_count": null,
   "id": "f14a384c-18be-452d-bd9e-c1fd2d4fcee2",
   "metadata": {},
   "outputs": [],
   "source": [
    "overlap_cnt"
   ]
  },
  {
   "cell_type": "code",
   "execution_count": null,
   "id": "d1596ff5-32c0-4fec-a693-ad354bef2ea6",
   "metadata": {},
   "outputs": [],
   "source": [
    "# PSPA data\n",
    "raw = raw.set_index('kinase')\n",
    "norm = norm.set_index('kinase')"
   ]
  },
  {
   "cell_type": "markdown",
   "id": "23e7e08a-b46e-498e-904e-e16341d775bb",
   "metadata": {},
   "source": [
    "## Plot"
   ]
  },
  {
   "cell_type": "code",
   "execution_count": null,
   "id": "67f2fa13-68a1-4146-983f-7580c2eb6f24",
   "metadata": {},
   "outputs": [],
   "source": [
    "sns.set(rc={\"figure.dpi\":200, 'savefig.dpi':200})\n",
    "sns.set_context('notebook')\n",
    "sns.set_style(\"ticks\")"
   ]
  },
  {
   "cell_type": "code",
   "execution_count": null,
   "id": "efce47c8-064f-4315-bee2-3262a71eb000",
   "metadata": {},
   "outputs": [],
   "source": [
    "# aa_order = [i for i in 'PGACSTVILMFYWHKRQNDEsty']\n",
    "aa_order_paper = [i for i in 'PGACSTVILMFYWHKRQNDEsty']\n",
    "# position = [i for i in range(-7,8)]\n",
    "position_paper = [-5,-4,-3,-2,-1,1,2,3,4]"
   ]
  },
  {
   "cell_type": "markdown",
   "id": "4fb8eff1-ee42-430b-8935-0029ca56fb35",
   "metadata": {},
   "source": [
    "### Dataset-driven vs. normalized"
   ]
  },
  {
   "cell_type": "markdown",
   "id": "c3aaf2a1-e8c5-454e-a907-5f7548562431",
   "metadata": {},
   "source": [
    "To generate all of other figures and save them, uncheck plt.savefig, and comment out plt.show() and break"
   ]
  },
  {
   "cell_type": "code",
   "execution_count": null,
   "id": "1ef1c545-622c-4538-b0f4-959b7c8cd32d",
   "metadata": {},
   "outputs": [],
   "source": [
    "set_sns()"
   ]
  },
  {
   "cell_type": "code",
   "execution_count": null,
   "id": "3053cecd-d37c-45a7-9dc9-746f0a96eadd",
   "metadata": {
    "scrolled": true
   },
   "outputs": [],
   "source": [
    "for k in tqdm(overlap_cnt.index,total=len(overlap_cnt)):\n",
    "    df_k = df.query(f'kinase_paper==\"{k}\"')\n",
    "    df_k = df_k.drop_duplicates(subset='SUB').reset_index()\n",
    "    \n",
    "    paper,full = get_freq(df_k)\n",
    "    raw_k = get_one_kinase(norm,k,drop_s=False).T.reindex(index=aa_order_paper,columns=position_paper).round(3)\n",
    "    \n",
    "    plot_heatmap(paper,f'{k} from CDDM (n={overlap_cnt[k]})')\n",
    "    # plt.savefig(f'corr/KS/{k}.png',bbox_inches='tight', pad_inches=0.05)\n",
    "    plt.show()\n",
    "    plt.close()\n",
    "\n",
    "    plot_heatmap(raw_k,f'{k} from PSPA')\n",
    "    # plt.savefig(f'corr/PSPA/{k}.png',bbox_inches='tight', pad_inches=0.05)\n",
    "    plt.show()\n",
    "    plt.close()\n",
    "\n",
    "    plot_corr(y = paper.unstack().values, #dataset driven\n",
    "              x = raw_k.unstack().values, # PSPA\n",
    "              ylabel='CDDM',\n",
    "              xlabel='PSPA')\n",
    "    plt.title(k)\n",
    "    # plt.savefig(f'corr/pear/{k}.png',bbox_inches='tight', pad_inches=0.2)\n",
    "    plt.show()\n",
    "    plt.close()\n",
    "    \n",
    "    break"
   ]
  },
  {
   "cell_type": "markdown",
   "id": "4ce241de-a6c1-4083-a627-ef7e1a7ffa24",
   "metadata": {},
   "source": [
    "Combine the figures: correlation on top, and two heatmaps on the bottom"
   ]
  },
  {
   "cell_type": "code",
   "execution_count": null,
   "id": "91356e71-8e0a-4832-8618-9f861197a249",
   "metadata": {},
   "outputs": [],
   "source": [
    "def combine_images_custom_layout(image_paths, output_path):\n",
    "    images = [Image.open(image_path).convert('RGBA') for image_path in image_paths]\n",
    "    \n",
    "    # Calculate total width and height for the new image\n",
    "    total_width = max(images[0].width, images[1].width + images[2].width)\n",
    "    total_height = images[0].height + max(images[1].height, images[2].height)\n",
    "    \n",
    "    # Create a new image with calculated dimensions\n",
    "    combined_image = Image.new('RGBA', (total_width, total_height))\n",
    "    \n",
    "    # Paste the first image at the top-center\n",
    "    x_offset = (total_width - images[0].width) // 2\n",
    "    combined_image.paste(images[0], (x_offset, 0), images[0])\n",
    "    \n",
    "    # Paste the second image at the bottom-left\n",
    "    combined_image.paste(images[1], (0, images[0].height), images[1])\n",
    "    \n",
    "    # Paste the third image at the bottom-right\n",
    "    combined_image.paste(images[2], (images[1].width, images[0].height), images[2])\n",
    "    \n",
    "    # Save the result\n",
    "    combined_image.save(output_path)"
   ]
  },
  {
   "cell_type": "markdown",
   "id": "794b58e4-e739-4c53-94ce-29c4f56fdd74",
   "metadata": {},
   "source": [
    "Uncheck below to save combined figures"
   ]
  },
  {
   "cell_type": "code",
   "execution_count": null,
   "id": "ff7df832-b9dc-4868-b150-3fe89a04c09c",
   "metadata": {},
   "outputs": [],
   "source": [
    "# folders = [\"corr/pear\",'corr/KS','corr/PSPA']\n",
    "\n",
    "# for k in tqdm(overlap_cnt.index,total=len(overlap_cnt)):\n",
    "#     filename = f\"{k}.png\"\n",
    "#     image_paths = [os.path.join(folder, filename) for folder in folders]\n",
    "#     output_path = f\"corr/combine/{k}.png\"\n",
    "#     combine_images_custom_layout(image_paths, output_path)\n",
    "#     # break"
   ]
  },
  {
   "cell_type": "markdown",
   "id": "594feaab-3eea-437e-a190-067d553b82ac",
   "metadata": {},
   "source": [
    "## Plot comparison"
   ]
  },
  {
   "cell_type": "markdown",
   "id": "331c0b77-aa14-438a-b048-0cb4ce76bc2d",
   "metadata": {},
   "source": [
    "***Correlation with raw PSPA***"
   ]
  },
  {
   "cell_type": "code",
   "execution_count": null,
   "id": "655922ed-e18d-40ac-a86c-ee453a540972",
   "metadata": {},
   "outputs": [],
   "source": [
    "data = []\n",
    "for k in tqdm(overlap_cnt.index):\n",
    "    df_k = df.query(f'kinase_paper==\"{k}\"')\n",
    "    df_k = df_k.drop_duplicates(subset='SUB').reset_index()\n",
    "    \n",
    "    cnt = df_k.shape[0]\n",
    "    \n",
    "    paper,full = get_freq(df_k)\n",
    "    raw_k = get_one_kinase(raw,k,drop_s=False).T.reindex(index=aa_order_paper,columns=position_paper).round(3)\n",
    "    \n",
    "    full_corr,_ = pearsonr(raw_k.unstack().values,paper.unstack().values)\n",
    "    \n",
    "    data.append([k,full_corr,cnt])\n",
    "    "
   ]
  },
  {
   "cell_type": "code",
   "execution_count": null,
   "id": "50c6cfea-3548-4d94-9ab0-9b4d3763d403",
   "metadata": {},
   "outputs": [],
   "source": [
    "corr_raw = pd.DataFrame(data,columns= ['kinase','corr_with_raw','count_unique'])"
   ]
  },
  {
   "cell_type": "markdown",
   "id": "eedeb6d6-c3fb-427d-891e-a39e51aedf70",
   "metadata": {},
   "source": [
    "***Correlation with normalized PSPA***"
   ]
  },
  {
   "cell_type": "code",
   "execution_count": null,
   "id": "b6818f39-1f9d-4593-980a-8ff8db61f386",
   "metadata": {},
   "outputs": [],
   "source": [
    "data = []\n",
    "for k in overlap_cnt.index:\n",
    "    df_k = df.query(f'kinase_paper==\"{k}\"')\n",
    "    df_k = df_k.drop_duplicates(subset='SUB').reset_index()\n",
    "    \n",
    "    cnt = df_k.shape[0]\n",
    "    \n",
    "    paper,full = get_freq(df_k)\n",
    "    norm_k = get_one_kinase(norm,k,drop_s=False).T.reindex(index=aa_order_paper,columns=position_paper).round(3)\n",
    "    \n",
    "    full_corr,_ = pearsonr(norm_k.unstack().values,paper.unstack().values)\n",
    "    \n",
    "    data.append([k,full_corr])\n",
    "    "
   ]
  },
  {
   "cell_type": "code",
   "execution_count": null,
   "id": "a817a3dc-219c-4a77-afe4-6e6bf297e4a5",
   "metadata": {},
   "outputs": [],
   "source": [
    "corr_norm = pd.DataFrame(data,columns= ['kinase','corr_with_norm',\n",
    "                                ])"
   ]
  },
  {
   "cell_type": "markdown",
   "id": "f196ae30-a2f9-4fd8-9849-34564a0707cc",
   "metadata": {},
   "source": [
    "***Merge with specificity***"
   ]
  },
  {
   "cell_type": "code",
   "execution_count": null,
   "id": "6b902a5e-f2c1-4aaa-9c9c-d2ceef2a0120",
   "metadata": {},
   "outputs": [],
   "source": [
    "corr = corr_raw.merge(corr_norm)"
   ]
  },
  {
   "cell_type": "code",
   "execution_count": null,
   "id": "056f0c46-1bab-4243-88e6-cdc325dce9a5",
   "metadata": {},
   "outputs": [],
   "source": [
    "m = pd.read_csv('raw/specificity_pspa.csv')"
   ]
  },
  {
   "cell_type": "code",
   "execution_count": null,
   "id": "8d611a61-9136-44f9-8da7-7436e6ceac88",
   "metadata": {},
   "outputs": [],
   "source": [
    "corr= corr.merge(m).rename(columns={'max':'specificity'})"
   ]
  },
  {
   "cell_type": "code",
   "execution_count": null,
   "id": "8a1a2760-7fff-4fbf-aeff-f91f15481d19",
   "metadata": {},
   "outputs": [],
   "source": [
    "corr"
   ]
  },
  {
   "cell_type": "code",
   "execution_count": null,
   "id": "22a5cc89-a2d7-4a2e-aa5c-5931f9e32be5",
   "metadata": {},
   "outputs": [],
   "source": [
    "corr.query('kinase == \"CK1A\"')"
   ]
  },
  {
   "cell_type": "markdown",
   "id": "2eb34135-fdfd-4bfa-bda0-ac081ed5c81e",
   "metadata": {},
   "source": [
    "***Pearson vs. Specificity***"
   ]
  },
  {
   "cell_type": "code",
   "execution_count": null,
   "id": "5f773072-af52-4aa4-be3f-0ad954d04c0e",
   "metadata": {},
   "outputs": [],
   "source": [
    "plot_corr(x=corr.specificity.values,\n",
    "          y=corr.corr_with_norm.values)\n",
    "plt.ylabel('Pearson\\n dataset-driven vs. raw PSPA')\n",
    "plt.xlabel('Kinase specificity');"
   ]
  },
  {
   "cell_type": "code",
   "execution_count": null,
   "id": "f30b4ac4-06cb-41a8-8f56-1bb0846c8713",
   "metadata": {},
   "outputs": [],
   "source": [
    "info = Data.get_kinase_info().query('pseudo==\"0\"')\n",
    "\n",
    "corr2 = corr.merge(info)\n",
    "\n",
    "color = load_pickle('raw/kinase_color.pkl')"
   ]
  },
  {
   "cell_type": "code",
   "execution_count": null,
   "id": "0741ef67-3511-446b-970d-841ade49fddb",
   "metadata": {},
   "outputs": [],
   "source": [
    "plot_bar(corr2,'corr_with_norm','group',palette=color)\n",
    "plt.ylabel('Pearson');"
   ]
  },
  {
   "cell_type": "code",
   "execution_count": null,
   "id": "82bec842-2e2a-4f4d-a5d6-a4b5cf73afdf",
   "metadata": {},
   "outputs": [],
   "source": [
    "plt.figure(figsize=(7,3))\n",
    "corr.corr_with_norm.hist(bins=20)\n",
    "plt.xlabel('Pearson')\n",
    "plt.ylabel('# Kinase')\n",
    "plt.title('Distribution of Pearson score')"
   ]
  },
  {
   "cell_type": "code",
   "execution_count": null,
   "id": "2c338058-04dc-49e7-a9d3-b393b70ee3e5",
   "metadata": {},
   "outputs": [],
   "source": [
    "corr.plot.scatter(y='corr_with_norm',x='specificity',c='darkblue')\n",
    "plt.ylabel('Pearson\\n Dataset-driven vs. norm PSPA')\n",
    "plt.xlabel('Kinase specificity');\n",
    "# plt.title('Dataset-driven vs. raw PSPA')"
   ]
  },
  {
   "cell_type": "markdown",
   "id": "b1df8550-ea4d-4311-82ba-44755a02793a",
   "metadata": {},
   "source": [
    "***Examples of outliers***"
   ]
  },
  {
   "cell_type": "code",
   "execution_count": null,
   "id": "ba7cc807-b0f0-40ad-93b8-516fc9af8d77",
   "metadata": {},
   "outputs": [],
   "source": [
    "# Examples of data\n",
    "k = 'CK1A'\n",
    "df_k=df.query(f'kinase_paper == \"{k}\"')\n",
    "df_k=df_k.drop_duplicates(subset='SUB')\n",
    "\n",
    "paper, full = get_freq(df_k)\n",
    "\n",
    "raw_k = get_one_kinase(raw,k,drop_s=False).T\n",
    "raw_k = raw_k.reindex(index=aa_order_paper)\n",
    "\n",
    "plot_heatmap(raw_k,f'{k} from raw PSPA')\n",
    "plot_heatmap(paper,f'{k} from KS datasets (n={len(df_k)})')"
   ]
  },
  {
   "cell_type": "markdown",
   "id": "5900fd29-c0ab-496c-9228-0f44d4ba621d",
   "metadata": {},
   "source": [
    "To check all of the outliers, uncheck below"
   ]
  },
  {
   "cell_type": "code",
   "execution_count": null,
   "id": "468d1281-288a-4d30-a029-0c615eb409b2",
   "metadata": {},
   "outputs": [],
   "source": [
    "# # Examples of data\n",
    "# for k in corr.query('corr_with_norm<0.4 & specificity>0.55').kinase:\n",
    "    \n",
    "#     df_k=df.query(f'kinase_paper == \"{k}\"')\n",
    "#     df_k=df_k.drop_duplicates(subset='SUB')\n",
    "\n",
    "#     paper, full = get_freq(df_k)\n",
    "\n",
    "#     raw_k = get_one_kinase(raw,k,drop_s=False).T\n",
    "#     raw_k = raw_k.reindex(index=aa_order_paper)\n",
    "    \n",
    "#     plot_heatmap(raw_k,f'{k} from raw PSPA')\n",
    "#     plot_heatmap(paper,f'{k} from KS datasets (n={len(df_k)})')"
   ]
  },
  {
   "cell_type": "markdown",
   "id": "1c1e5890-f15c-4e0d-93d7-438fc8853350",
   "metadata": {},
   "source": [
    "### Pearson with raw vs. Pearson with norm"
   ]
  },
  {
   "cell_type": "code",
   "execution_count": null,
   "id": "7aa2349b-6fd9-47ed-84c9-67aa4d3fbc37",
   "metadata": {},
   "outputs": [],
   "source": [
    "melt = pd.melt(corr[['corr_with_raw','corr_with_norm']])"
   ]
  },
  {
   "cell_type": "code",
   "execution_count": null,
   "id": "c5fa3db0-4da1-41e0-9f5a-a14ca6c2fb40",
   "metadata": {},
   "outputs": [],
   "source": [
    "melt['variable'] = melt.variable.replace({'corr_with_raw':'raw','corr_with_norm':'normalized'})"
   ]
  },
  {
   "cell_type": "code",
   "execution_count": null,
   "id": "79591930-1ed5-4fa6-aaad-c52ed19ed9ed",
   "metadata": {},
   "outputs": [],
   "source": [
    "def plot_box(data,x,y,dots=True):\n",
    "    if dots:\n",
    "        sns.stripplot(data=data,x=x,y=y)\n",
    "    sns.boxplot(data=data, x=x, y=y, palette='pastel')"
   ]
  },
  {
   "cell_type": "code",
   "execution_count": null,
   "id": "82edc02c-29ca-4951-9043-51ad30fabc0c",
   "metadata": {},
   "outputs": [],
   "source": [
    "plot_box(melt,'variable','value')\n",
    "plt.ylabel('Pearson \\nDataset-driven vs. PSPA')\n",
    "plt.xlabel('PSPA');"
   ]
  },
  {
   "cell_type": "markdown",
   "id": "e0753765-b844-4c5f-a607-70134ffc6f67",
   "metadata": {},
   "source": [
    "### Check if changed pearson is correlated with specificity"
   ]
  },
  {
   "cell_type": "code",
   "execution_count": null,
   "id": "a3323a08-bcf4-45c5-b7e0-9df640408037",
   "metadata": {},
   "outputs": [],
   "source": [
    "corr['change_corr'] = corr['corr_with_norm'] - corr['corr_with_raw']"
   ]
  },
  {
   "cell_type": "code",
   "execution_count": null,
   "id": "61c5fd5b-6478-4578-aa73-9b87aef3eff5",
   "metadata": {},
   "outputs": [],
   "source": [
    "plot_corr(y=corr.change_corr,x=corr.specificity,text_location=[0.8,0.85])\n",
    "plt.xlabel('Kinase specificity based on PSPA')\n",
    "plt.ylabel('Δ Pearson');"
   ]
  },
  {
   "cell_type": "code",
   "execution_count": null,
   "id": "ae03e364-8a9a-431e-a4e3-8b2dde5ac2c7",
   "metadata": {},
   "outputs": [],
   "source": [
    "corr.plot.scatter(y='change_corr',x='specificity',c='darkblue')\n",
    "pear,pvalue = pearsonr(corr.change_corr,corr.specificity)\n",
    "plt.text(s=f'Pearson = {round(pear,2)}\\n   p = {\"{:.2e}\".format(pvalue)}',x=0.6,y=0.2)\n",
    "plt.ylabel('Δ Pearson')\n",
    "plt.xlabel('Kinase specificity');"
   ]
  },
  {
   "cell_type": "code",
   "execution_count": null,
   "id": "553f5b7d-6962-4fa8-a09d-26736f745a20",
   "metadata": {},
   "outputs": [],
   "source": [
    "# corr.to_csv('PSSM_vs_dataset_summary.csv',index=False)"
   ]
  },
  {
   "cell_type": "markdown",
   "id": "8ad7abd1-cf7c-479c-849c-fdfc877e93e8",
   "metadata": {},
   "source": [
    "### Find out the factor that cause the biggest change in correlation"
   ]
  },
  {
   "cell_type": "markdown",
   "id": "56450fff-3e39-48fd-8c62-3f90ae545c31",
   "metadata": {},
   "source": [
    "Plot the kinase with biggest change in pearson after normalization; uncheck 'break' to run all"
   ]
  },
  {
   "cell_type": "code",
   "execution_count": null,
   "id": "6bd5f864-738a-4db6-9762-bf8615e60c3e",
   "metadata": {},
   "outputs": [],
   "source": [
    "for k in corr.sort_values('change_corr',ascending=False).kinase[:5]:\n",
    "    \n",
    "    df_k=df.query(f'kinase_paper == \"{k}\"')\n",
    "    df_k = df_k.drop_duplicates(subset=\"SUB\")\n",
    "    \n",
    "    paper, full = get_freq(df_k)\n",
    "\n",
    "    raw_k = get_one_kinase(raw,k,drop_s=False).T\n",
    "    raw_k = raw_k.reindex(index=aa_order_paper)\n",
    "    \n",
    "    norm_k = get_one_kinase(norm,k,drop_s=False).T\n",
    "    norm_k = norm_k.reindex(index=aa_order_paper)\n",
    "    \n",
    "    plot_heatmap(raw_k,f'{k} from raw PSPA')\n",
    "    plot_heatmap(norm_k,f'{k} from normalized PSPA')\n",
    "    plot_heatmap(paper,f'{k} from KS datasets (n={len(df_k)})')\n",
    "\n",
    "    break"
   ]
  },
  {
   "cell_type": "markdown",
   "id": "a44e4fbe-02d2-4605-b610-a8abbfd72384",
   "metadata": {},
   "source": [
    "Calculate S and T ratio"
   ]
  },
  {
   "cell_type": "code",
   "execution_count": null,
   "id": "e076f4e8-795c-4729-8ead-9a48e0f05dfb",
   "metadata": {},
   "outputs": [],
   "source": [
    "data = []\n",
    "for k in overlap_cnt.index:\n",
    "\n",
    "    # paper, full = get_freq(df,k)\n",
    "\n",
    "    raw_k = get_one_kinase(raw,k,drop_s=False).T\n",
    "    raw_k = raw_k.reindex(index=aa_order_paper)\n",
    "    \n",
    "    s_ratio = (raw_k.loc['S']/raw_k.sum()).median() #use median because it can better reflect the distribution of the data than the average\n",
    "    t_ratio = (raw_k.loc['T']/raw_k.sum()).median()\n",
    "    data.append([k,s_ratio,t_ratio])"
   ]
  },
  {
   "cell_type": "code",
   "execution_count": null,
   "id": "f68b0aa8-8f7b-4541-9ab0-5cef12beb78f",
   "metadata": {},
   "outputs": [],
   "source": [
    "ST_ratio = pd.DataFrame(data,columns=['kinase','S_ratio','T_ratio'])"
   ]
  },
  {
   "cell_type": "code",
   "execution_count": null,
   "id": "57787743-a3a1-4658-8788-77c572baa00c",
   "metadata": {},
   "outputs": [],
   "source": [
    "corr = corr.merge(ST_ratio)"
   ]
  },
  {
   "cell_type": "code",
   "execution_count": null,
   "id": "b711a3be-a7de-45fc-b795-3a3eb6dd39b9",
   "metadata": {},
   "outputs": [],
   "source": [
    "corr"
   ]
  },
  {
   "cell_type": "code",
   "execution_count": null,
   "id": "9a25b951-d013-479b-87a9-68a47c10b693",
   "metadata": {},
   "outputs": [],
   "source": [
    "corr.corr(numeric_only=True)"
   ]
  },
  {
   "cell_type": "markdown",
   "id": "98ed8bf8-f8b1-4f58-84e5-cf5d55a185de",
   "metadata": {},
   "source": [
    "Check change_corr column in the correlation plot, it seems T ratio is highly correlated with change_corr"
   ]
  },
  {
   "cell_type": "code",
   "execution_count": null,
   "id": "a2aa550c-61d1-45a2-8f47-849266171295",
   "metadata": {},
   "outputs": [],
   "source": [
    "plot_corr(y=corr.change_corr,x=corr.T_ratio)\n",
    "plt.xlabel('T ratio in raw PSPA')\n",
    "plt.ylabel('Δ Pearson');"
   ]
  },
  {
   "cell_type": "code",
   "execution_count": null,
   "id": "f301967a-ef13-41b1-9964-028a4cab023e",
   "metadata": {},
   "outputs": [],
   "source": []
  }
 ],
 "metadata": {
  "kernelspec": {
   "display_name": "Python 3",
   "language": "python",
   "name": "python3"
  },
  "language_info": {
   "codemirror_mode": {
    "name": "ipython",
    "version": 3
   },
   "file_extension": ".py",
   "mimetype": "text/x-python",
   "name": "python",
   "nbconvert_exporter": "python",
   "pygments_lexer": "ipython3",
   "version": "3.10.10"
  }
 },
 "nbformat": 4,
 "nbformat_minor": 5
}
