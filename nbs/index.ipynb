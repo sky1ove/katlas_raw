{
 "cells": [
  {
   "cell_type": "markdown",
   "metadata": {},
   "source": [
    "# KATLAS raw"
   ]
  },
  {
   "cell_type": "markdown",
   "metadata": {},
   "source": [
    "Reproduce datasets and figures for paper [Computational Decoding of Human Kinome Substrate Specificities and Functions]\n",
    "\n",
    "The function modules for python-katlas is available at: https://github.com/sky1ove/katlas"
   ]
  },
  {
   "cell_type": "markdown",
   "metadata": {},
   "source": [
    "## Install"
   ]
  },
  {
   "cell_type": "markdown",
   "metadata": {},
   "source": [
    "To run notebooks successfully, install `dev` version of python-katlas:\n",
    "\n",
    "```\n",
    "pip install 'python-katlas[dev]' -U\n",
    "```"
   ]
  },
  {
   "cell_type": "markdown",
   "metadata": {},
   "source": [
    "## System Requirements"
   ]
  },
  {
   "cell_type": "markdown",
   "metadata": {},
   "source": [
    "We recommend using a CUDA-enabled environment for efficient protein embedding extraction and deep learning model training."
   ]
  },
  {
   "cell_type": "markdown",
   "metadata": {},
   "source": [
    "Run `import torch; torch.cuda.is_available()` to check cuda availability."
   ]
  },
  {
   "cell_type": "markdown",
   "metadata": {},
   "source": [
    "## Instruction"
   ]
  },
  {
   "cell_type": "markdown",
   "metadata": {},
   "source": [
    "After installation, git clone this repository through:\n",
    "\n",
    "```\n",
    "\n",
    "git clone https://github.com/sky1ove/katlas_raw.git\n",
    "```\n",
    "\n",
    "Then to go to `nbs` folder and run notebooks:\n",
    "\n",
    " ```\n",
    " cd nbs\n",
    " ``` "
   ]
  },
  {
   "cell_type": "markdown",
   "metadata": {},
   "source": [
    "## Doc site for this repository"
   ]
  },
  {
   "cell_type": "markdown",
   "metadata": {},
   "source": [
    "Notebooks in the nbs folder can be visualized at: \n",
    "\n",
    "https://sky1ove.github.io/katlas_raw/"
   ]
  }
 ],
 "metadata": {
  "kernelspec": {
   "display_name": "Python 3",
   "language": "python",
   "name": "python3"
  },
  "language_info": {
   "codemirror_mode": {
    "name": "ipython",
    "version": 3
   },
   "file_extension": ".py",
   "mimetype": "text/x-python",
   "name": "python",
   "nbconvert_exporter": "python",
   "pygments_lexer": "ipython3",
   "version": "3.10.10"
  }
 },
 "nbformat": 4,
 "nbformat_minor": 4
}
