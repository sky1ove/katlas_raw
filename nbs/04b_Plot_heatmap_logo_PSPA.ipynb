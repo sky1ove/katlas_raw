{
 "cells": [
  {
   "cell_type": "raw",
   "id": "c2204804-38de-4fa1-8608-57fe2c80a1c7",
   "metadata": {},
   "source": [
    "---\n",
    "skip_showdoc: true\n",
    "skip_exec: true\n",
    "---"
   ]
  },
  {
   "cell_type": "markdown",
   "id": "885df89f-5fed-48c2-b672-e4378c9bc57d",
   "metadata": {},
   "source": [
    "# Plot heatmap and logo"
   ]
  },
  {
   "cell_type": "markdown",
   "id": "537e3d49-0afc-4483-b852-f4ac4e6a2203",
   "metadata": {},
   "source": [
    "## Setup"
   ]
  },
  {
   "cell_type": "code",
   "execution_count": null,
   "id": "e75b5b8c-b917-4947-9963-ec6ad2e036ee",
   "metadata": {},
   "outputs": [],
   "source": [
    "# !pip install git+https://github.com/sky1ove/katlas.git -q"
   ]
  },
  {
   "cell_type": "code",
   "execution_count": null,
   "id": "e4c17118-c355-445f-9408-c3b0f5db47a5",
   "metadata": {},
   "outputs": [],
   "source": [
    "import pandas as pd\n",
    "import numpy as np\n",
    "\n",
    "import matplotlib.pyplot as plt\n",
    "import seaborn as sns\n",
    "\n",
    "from katlas.core import *\n",
    "from katlas.plot import *\n",
    "\n",
    "from scipy.stats import spearmanr, pearsonr\n",
    "\n",
    "import os\n",
    "from PIL import Image\n",
    "from tqdm import tqdm\n"
   ]
  },
  {
   "cell_type": "code",
   "execution_count": null,
   "id": "6bbc2b30-d8f4-4617-bf47-64043b7386d1",
   "metadata": {},
   "outputs": [],
   "source": [
    "sns.set(rc={\"figure.dpi\":200, 'savefig.dpi':200})\n",
    "sns.set_context('notebook')\n",
    "sns.set_style(\"ticks\")"
   ]
  },
  {
   "cell_type": "markdown",
   "id": "a586d2ee-9646-4ca1-97f2-ad34b25dda49",
   "metadata": {},
   "source": [
    "## Load data"
   ]
  },
  {
   "cell_type": "code",
   "execution_count": null,
   "id": "650702fd-24c3-4e2a-9515-b3c432b5f419",
   "metadata": {},
   "outputs": [],
   "source": [
    "df = Data.get_pspa_all_norm()"
   ]
  },
  {
   "cell_type": "code",
   "execution_count": null,
   "id": "47a73346-c657-4074-87a1-9f2d710420ff",
   "metadata": {},
   "outputs": [],
   "source": [
    "info= Data.get_kinase_info().query('pseudo==\"0\"')"
   ]
  },
  {
   "cell_type": "code",
   "execution_count": null,
   "id": "2f67febf-6988-4b0e-be3b-cdb5f8125556",
   "metadata": {},
   "outputs": [],
   "source": [
    "raw = pd.read_csv('raw/pspa_st_raw.csv').set_index('kinase')"
   ]
  },
  {
   "cell_type": "code",
   "execution_count": null,
   "id": "4c2f3199-ebb5-42c6-bb81-0205d2e3ac40",
   "metadata": {},
   "outputs": [],
   "source": [
    "def logo_func(df:pd.DataFrame, # a dataframe that contains ratios for each amino acid at each position\n",
    "              title: str='logo', # title of the motif logo\n",
    "              figsize=(7,2.5)\n",
    "             ):\n",
    "    \"Use logomaker plot motif logos given a df matrix \"\n",
    "    \n",
    "    # Indicates color scheme of the amino acid\n",
    "    aa = {\n",
    "        'AG': '#037f04',\n",
    "        'DEsty': '#da143e', # sty seems to be the same color as big ST&Y even though we set it here\n",
    "        'F': '#84380b',\n",
    "        'HQN': '#8d2be1',\n",
    "        'LMIFWTVC': '#d9a41c',\n",
    "        'P': '#000000',\n",
    "        'RK': '#0000ff',\n",
    "        'ST': '#8d008d', # STY overwrites the previous s,t,y as logomaker does not distingusih capital and lower case\n",
    "        'Y': '#84380b',\n",
    "        \n",
    "        # some old settings\n",
    "        # 'st':'#8d2be1',\n",
    "        # 'y':'#8d2be1'\n",
    "        # 'pS/pT':'#8d2be1',# logomaker does not support double letters like pS or pT\n",
    "        # 'pY':'#8d2be1'\n",
    "    }\n",
    "    \n",
    "    # Use logomaker to plot\n",
    "    logo = logomaker.Logo(df,color_scheme = aa,flip_below=False,figsize=figsize) #5.5,2.5\n",
    "    \n",
    "    logo.style_xticks(fmt='%d')\n",
    "    logo.ax.set_yticks([])\n",
    "    logo.ax.set_title(title)"
   ]
  },
  {
   "cell_type": "code",
   "execution_count": null,
   "id": "427bae2e-3cca-4f13-9170-6e29e084e684",
   "metadata": {},
   "outputs": [],
   "source": [
    "import logomaker"
   ]
  },
  {
   "cell_type": "code",
   "execution_count": null,
   "id": "b490dd03-a07a-4b67-b00a-8dbff956c068",
   "metadata": {},
   "outputs": [],
   "source": [
    "def get_logo(df: pd.DataFrame, # stacked Dataframe with kinase as index, substrates as columns\n",
    "             kinase: str, # a specific kinase name in index\n",
    "             figsize = (7,2.5)\n",
    "             ):\n",
    "    \"Given stacked df (index as kinase, columns as substrates), get a specific kinase's logo\"\n",
    "    \n",
    "    \n",
    "    # get raw kinase to calculate S/T\n",
    "    pp = get_one_kinase(df,kinase,normalize=False)\n",
    "    \n",
    "    # get S/T ratio value\n",
    "    ss = pp['S'].sum()\n",
    "    st = pp['T'].sum()\n",
    "\n",
    "    S_ctrl = 0.75*ss - 0.25*st\n",
    "    T_ctrl = 0.75*st - 0.25*ss\n",
    "\n",
    "    S0 = S_ctrl / max(S_ctrl, T_ctrl)\n",
    "    T0 = T_ctrl / max(S_ctrl, T_ctrl)\n",
    "\n",
    "    S_ratio = S0/(S0+T0)\n",
    "    T_ratio = T0/(S0+T0)\n",
    "    \n",
    "    # get normalized kinase\n",
    "    norm_p = get_one_kinase(df,kinase, normalize=True)\n",
    "    \n",
    "    # calculate ratio, divide values by median, followed by log2 transformation\n",
    "    ratio =norm_p.apply(lambda r: r/r.median(),axis=1)\n",
    "    ratio = np.log2(ratio)\n",
    "\n",
    "    m = ratio.apply(lambda row: row[row > 0].sum(), axis=1).max()\n",
    "\n",
    "    new_row = pd.DataFrame({'S': S_ratio*m, 'T':T_ratio*m}, index=[0]) \n",
    "\n",
    "    ratio2 = pd.concat([ratio, new_row], ignore_index=False).fillna(0)\n",
    "    \n",
    "    # plot logo\n",
    "    logo_func(ratio2, kinase,figsize)"
   ]
  },
  {
   "cell_type": "code",
   "execution_count": null,
   "id": "80741bcf-f2d9-4dac-8a8a-0728ec319d70",
   "metadata": {},
   "outputs": [],
   "source": [
    "def get_tyr_logo(df_norm,kinase,figsize):\n",
    "    \n",
    "    norm_p = get_one_kinase(df_norm,kinase, normalize=False)\n",
    "    ratio =norm_p.apply(lambda r: r/r.median(),axis=1)\n",
    "    ratio = np.log2(ratio)\n",
    "    ratio = ratio.drop([0])\n",
    "    \n",
    "    m = ratio.apply(lambda row: row[row > 0].sum(), axis=1).max()\n",
    "    new_row = pd.DataFrame({'Y': 1*m}, index=[0]) \n",
    "    ratio2=pd.concat([ratio, new_row], ignore_index=False).fillna(0)\n",
    "    logo_func(ratio2,kinase,figsize)"
   ]
  },
  {
   "cell_type": "code",
   "execution_count": null,
   "id": "3694bd5d-b4fe-440a-9173-9a136ca659d4",
   "metadata": {},
   "outputs": [],
   "source": [
    "# for k in Tyr[:3]:\n",
    "#     get_tyr_logo(df,k)\n",
    "#     plt.show()\n",
    "#     plt.close()"
   ]
  },
  {
   "cell_type": "code",
   "execution_count": null,
   "id": "4387895c-6d14-4679-b272-155740cd6fa1",
   "metadata": {},
   "outputs": [],
   "source": [
    "ST = info[info.group!=\"TK\"].kinase"
   ]
  },
  {
   "cell_type": "markdown",
   "id": "819d0e0c-07d1-42fa-9080-f787620f3bee",
   "metadata": {},
   "source": [
    "## Generate all figures"
   ]
  },
  {
   "cell_type": "markdown",
   "id": "ad16d43c-1d5c-4883-a654-461b1d26e630",
   "metadata": {},
   "source": [
    "Uncomment plt.savefig to save figures"
   ]
  },
  {
   "cell_type": "code",
   "execution_count": null,
   "id": "eab8ed07-bbbb-40fa-9da6-dcd906d8b7fc",
   "metadata": {},
   "outputs": [],
   "source": [
    "def prepare_matrix(df,kinase,aa_order = ['P', 'G', 'A', 'C', 'S', 'T', 'V', 'I', 'L', 'M', 'F', 'Y', 'W', 'H', 'K', 'R', 'Q', 'N', 'D', 'E', 's', 't', 'y']):\n",
    "    d = df.loc[kinase].dropna()\n",
    "    d = d.to_frame().reset_index(names='position_aa')\n",
    "    d['aa'] = d.position_aa.str[-1]\n",
    "    d['position'] =d.position_aa.str[:-1].astype(int)\n",
    "    wide_form = d.pivot(index='aa',columns='position',values=kinase)\n",
    "    matrix = wide_form.drop(columns=[0])\n",
    "    column_order = matrix.columns.sort_values()\n",
    "    matrix = matrix.reindex(index=aa_order,columns=column_order)\n",
    "    return matrix"
   ]
  },
  {
   "cell_type": "code",
   "execution_count": null,
   "id": "d6841c4c-011b-45be-b764-1f1f965a2789",
   "metadata": {},
   "outputs": [],
   "source": [
    "sns.set(rc={\"figure.dpi\":200, 'savefig.dpi':200})\n",
    "sns.set_context('notebook')\n",
    "sns.set_style(\"ticks\")"
   ]
  },
  {
   "cell_type": "code",
   "execution_count": null,
   "id": "0f3791ac-fc13-44bd-ac99-e1cd5c9ed910",
   "metadata": {},
   "outputs": [],
   "source": [
    "ST = df[df['0Y']==0].index\n",
    "Tyr = df[df['0Y']==1].index"
   ]
  },
  {
   "cell_type": "code",
   "execution_count": null,
   "id": "25f57b0a-4e7c-492e-bda3-68d02e063d9c",
   "metadata": {},
   "outputs": [],
   "source": [
    "for k in ST:\n",
    "    matrix=prepare_matrix(df,k)\n",
    "    plot_heatmap(matrix,title=k,figsize=(5.2,10))\n",
    "    plt.savefig(f'PSPA_heatmaps/heatmap/{k}.png',bbox_inches='tight', pad_inches=0)\n",
    "    # plt.show()\n",
    "    plt.close()\n",
    "    \n",
    "    get_logo(raw, k,(5.1,2.5)) # use raw data\n",
    "    plt.savefig(f'PSPA_heatmaps/logo/{k}.png',bbox_inches='tight', pad_inches=0.3)\n",
    "    # plt.show()\n",
    "    plt.close()\n",
    "    # break"
   ]
  },
  {
   "cell_type": "code",
   "execution_count": null,
   "id": "3262b014-9f6a-4edf-9fd9-761ba20156da",
   "metadata": {},
   "outputs": [],
   "source": [
    "for k in Tyr:\n",
    "    matrix=prepare_matrix(df,k)\n",
    "    plot_heatmap(matrix,title=k,figsize=(5.5,10))\n",
    "    plt.savefig(f'PSPA_heatmaps/heatmap/{k}.png',bbox_inches='tight', pad_inches=0)\n",
    "    # plt.show()\n",
    "    plt.close()\n",
    "    \n",
    "    get_tyr_logo(df, k,(5.3,2.5)) # use normalized data\n",
    "    plt.savefig(f'PSPA_heatmaps/logo/{k}.png',bbox_inches='tight', pad_inches=0.3)\n",
    "    # plt.show()\n",
    "    plt.close()\n",
    "    # break"
   ]
  },
  {
   "cell_type": "markdown",
   "id": "6122b1be-0f8d-4549-95d2-f5fd53b67f4e",
   "metadata": {},
   "source": [
    "## Combine figures for pdf"
   ]
  },
  {
   "cell_type": "code",
   "execution_count": null,
   "id": "ba6246db-34a1-4489-9cae-c4b4447112dc",
   "metadata": {},
   "outputs": [],
   "source": [
    "def combine_images_vertically(image_paths, output_path):\n",
    "    images = [Image.open(image_path).convert('RGBA') for image_path in image_paths]\n",
    "    \n",
    "    total_width = max(image.width for image in images)\n",
    "    total_height = sum(image.height for image in images)\n",
    "\n",
    "    combined_image = Image.new('RGBA', (total_width, total_height))\n",
    "\n",
    "    y_offset = 0\n",
    "    for image in images:\n",
    "        combined_image.paste(image, (0, y_offset), image)\n",
    "        y_offset += image.height\n",
    "\n",
    "    combined_image.save(output_path)"
   ]
  },
  {
   "cell_type": "markdown",
   "id": "85c920e4-a421-4984-aa40-729c007ffe9a",
   "metadata": {},
   "source": [
    "Uncomment below to run"
   ]
  },
  {
   "cell_type": "code",
   "execution_count": null,
   "id": "6f9b1d0a-4661-40ca-8527-19174f3bb108",
   "metadata": {},
   "outputs": [
    {
     "name": "stderr",
     "output_type": "stream",
     "text": [
      "100%|██████████| 396/396 [01:14<00:00,  5.31it/s]\n"
     ]
    }
   ],
   "source": [
    "folders = [\"PSPA_heatmaps/logo\", \"PSPA_heatmaps/heatmap\"]\n",
    "for k in tqdm(df.index,total=len(df)):\n",
    "    filename = f\"{k}.png\"\n",
    "    image_paths = [os.path.join(folder, filename) for folder in folders]\n",
    "    output_path = f\"PSPA_heatmaps/combine/{k}.png\"\n",
    "    \n",
    "    combine_images_vertically(image_paths, output_path)\n",
    "    # break"
   ]
  },
  {
   "cell_type": "code",
   "execution_count": null,
   "id": "89e2504b-3f46-4c55-9535-b508a7ce0369",
   "metadata": {},
   "outputs": [],
   "source": [
    "# folders = [\"PSPA_heatmaps/logo\", \"PSPA_heatmaps/heatmap\"]\n",
    "# for k in tqdm(Tyr,total=len(Tyr)):\n",
    "#     filename = f\"{k}.png\"\n",
    "#     image_paths = [os.path.join(folder, filename) for folder in folders]\n",
    "#     output_path = f\"PSPA_heatmaps/combine/{k}.png\"\n",
    "    \n",
    "#     combine_images_vertically(image_paths, output_path)\n",
    "#     break"
   ]
  },
  {
   "cell_type": "code",
   "execution_count": null,
   "id": "a5efc548-1af5-4476-956d-6778179dda6b",
   "metadata": {},
   "outputs": [],
   "source": []
  }
 ],
 "metadata": {
  "kernelspec": {
   "display_name": "python3",
   "language": "python",
   "name": "python3"
  }
 },
 "nbformat": 4,
 "nbformat_minor": 5
}
