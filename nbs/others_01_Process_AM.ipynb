{
 "cells": [
  {
   "cell_type": "markdown",
   "id": "445c918e-1969-4e23-908d-523ef9cdfc91",
   "metadata": {},
   "source": [
    "# Process AlphaMissense dataset"
   ]
  },
  {
   "cell_type": "code",
   "execution_count": 1,
   "id": "b53ad08e-a195-4555-82e1-2bb0fe18b37b",
   "metadata": {},
   "outputs": [],
   "source": [
    "import pandas as pd"
   ]
  },
  {
   "cell_type": "markdown",
   "id": "70322eed-2490-467d-822f-68934b182537",
   "metadata": {},
   "source": [
    "Uncheck below to download the AlphaMissense data:"
   ]
  },
  {
   "cell_type": "code",
   "execution_count": 3,
   "id": "3aaa5c97-2544-493e-a92e-525ed9f3b23d",
   "metadata": {},
   "outputs": [],
   "source": [
    "# !wget https://zenodo.org/records/8208688/files/AlphaMissense_aa_substitutions.tsv.gz"
   ]
  },
  {
   "cell_type": "code",
   "execution_count": 3,
   "id": "c89d1d4f-d0a7-43ed-a1b6-e7e1e0118aa9",
   "metadata": {},
   "outputs": [
    {
     "name": "stdout",
     "output_type": "stream",
     "text": [
      "CPU times: user 1min 2s, sys: 37.8 s, total: 1min 39s\n",
      "Wall time: 3min 6s\n"
     ]
    }
   ],
   "source": [
    "%%time\n",
    "df = pd.read_csv('AlphaMissense_aa_substitutions.tsv.gz', compression='gzip',  header=3, sep='\\t', quotechar='\"')"
   ]
  },
  {
   "cell_type": "code",
   "execution_count": 7,
   "id": "80a5ee6d-66f5-44b5-b1ce-d8c2e0653aad",
   "metadata": {},
   "outputs": [],
   "source": [
    "df['position'] = df.protein_variant.str[1:-1].astype(int)"
   ]
  },
  {
   "cell_type": "code",
   "execution_count": 14,
   "id": "0671d3e8-b4f1-484a-98cc-e827d0b927e2",
   "metadata": {},
   "outputs": [],
   "source": [
    "df['aa_position'] =  df.protein_variant.str[:-1]"
   ]
  },
  {
   "cell_type": "code",
   "execution_count": 15,
   "id": "c3ec8f19-65a0-47fc-b75f-db3edb2c3442",
   "metadata": {},
   "outputs": [],
   "source": [
    "df_mean = df.groupby(['uniprot_id','aa_position'])['am_pathogenicity'].mean().reset_index()"
   ]
  },
  {
   "cell_type": "code",
   "execution_count": 13,
   "id": "b2447c7c-db52-4de5-bb3c-8f13c278edc6",
   "metadata": {},
   "outputs": [
    {
     "data": {
      "text/plain": [
       "19"
      ]
     },
     "execution_count": 13,
     "metadata": {},
     "output_type": "execute_result"
    }
   ],
   "source": [
    "df.shape[0]//df_mean.shape[0]"
   ]
  },
  {
   "cell_type": "code",
   "execution_count": 17,
   "id": "75c3625c-2b3a-4552-8f71-ce4134db804f",
   "metadata": {},
   "outputs": [],
   "source": [
    "df_mean['position'] = df_mean.aa_position.str[1:].astype(int)"
   ]
  },
  {
   "cell_type": "code",
   "execution_count": 20,
   "id": "5079dd9e-a529-4c6d-a6b7-758c5e9ff069",
   "metadata": {},
   "outputs": [],
   "source": [
    "df_mean = df_mean.sort_values(by=['uniprot_id','position']).reset_index(drop=True)"
   ]
  },
  {
   "cell_type": "code",
   "execution_count": 24,
   "id": "03d3b8e6-5f3a-4ea7-ab67-b7db433e27d7",
   "metadata": {},
   "outputs": [],
   "source": [
    "df_mean.to_parquet('raw/AM_mean.parquet')"
   ]
  },
  {
   "cell_type": "code",
   "execution_count": 22,
   "id": "bed01c8f-725c-4484-95ff-01d595a0be6f",
   "metadata": {},
   "outputs": [
    {
     "data": {
      "text/html": [
       "<div>\n",
       "<style scoped>\n",
       "    .dataframe tbody tr th:only-of-type {\n",
       "        vertical-align: middle;\n",
       "    }\n",
       "\n",
       "    .dataframe tbody tr th {\n",
       "        vertical-align: top;\n",
       "    }\n",
       "\n",
       "    .dataframe thead th {\n",
       "        text-align: right;\n",
       "    }\n",
       "</style>\n",
       "<table border=\"1\" class=\"dataframe\">\n",
       "  <thead>\n",
       "    <tr style=\"text-align: right;\">\n",
       "      <th></th>\n",
       "      <th>uniprot_id</th>\n",
       "      <th>aa_position</th>\n",
       "      <th>am_pathogenicity</th>\n",
       "      <th>position</th>\n",
       "    </tr>\n",
       "  </thead>\n",
       "  <tbody>\n",
       "    <tr>\n",
       "      <th>0</th>\n",
       "      <td>A0A024R1R8</td>\n",
       "      <td>M1</td>\n",
       "      <td>0.414942</td>\n",
       "      <td>1</td>\n",
       "    </tr>\n",
       "    <tr>\n",
       "      <th>1</th>\n",
       "      <td>A0A024R1R8</td>\n",
       "      <td>S2</td>\n",
       "      <td>0.231174</td>\n",
       "      <td>2</td>\n",
       "    </tr>\n",
       "    <tr>\n",
       "      <th>2</th>\n",
       "      <td>A0A024R1R8</td>\n",
       "      <td>S3</td>\n",
       "      <td>0.188332</td>\n",
       "      <td>3</td>\n",
       "    </tr>\n",
       "    <tr>\n",
       "      <th>3</th>\n",
       "      <td>A0A024R1R8</td>\n",
       "      <td>H4</td>\n",
       "      <td>0.141832</td>\n",
       "      <td>4</td>\n",
       "    </tr>\n",
       "    <tr>\n",
       "      <th>4</th>\n",
       "      <td>A0A024R1R8</td>\n",
       "      <td>E5</td>\n",
       "      <td>0.245732</td>\n",
       "      <td>5</td>\n",
       "    </tr>\n",
       "    <tr>\n",
       "      <th>...</th>\n",
       "      <td>...</td>\n",
       "      <td>...</td>\n",
       "      <td>...</td>\n",
       "      <td>...</td>\n",
       "    </tr>\n",
       "    <tr>\n",
       "      <th>11377646</th>\n",
       "      <td>X6R8D5</td>\n",
       "      <td>V123</td>\n",
       "      <td>0.296089</td>\n",
       "      <td>123</td>\n",
       "    </tr>\n",
       "    <tr>\n",
       "      <th>11377647</th>\n",
       "      <td>X6R8D5</td>\n",
       "      <td>L124</td>\n",
       "      <td>0.260532</td>\n",
       "      <td>124</td>\n",
       "    </tr>\n",
       "    <tr>\n",
       "      <th>11377648</th>\n",
       "      <td>X6R8D5</td>\n",
       "      <td>W125</td>\n",
       "      <td>0.901605</td>\n",
       "      <td>125</td>\n",
       "    </tr>\n",
       "    <tr>\n",
       "      <th>11377649</th>\n",
       "      <td>X6R8D5</td>\n",
       "      <td>R126</td>\n",
       "      <td>0.326921</td>\n",
       "      <td>126</td>\n",
       "    </tr>\n",
       "    <tr>\n",
       "      <th>11377650</th>\n",
       "      <td>X6R8D5</td>\n",
       "      <td>S127</td>\n",
       "      <td>0.407611</td>\n",
       "      <td>127</td>\n",
       "    </tr>\n",
       "  </tbody>\n",
       "</table>\n",
       "<p>11377651 rows × 4 columns</p>\n",
       "</div>"
      ],
      "text/plain": [
       "          uniprot_id aa_position  am_pathogenicity  position\n",
       "0         A0A024R1R8          M1          0.414942         1\n",
       "1         A0A024R1R8          S2          0.231174         2\n",
       "2         A0A024R1R8          S3          0.188332         3\n",
       "3         A0A024R1R8          H4          0.141832         4\n",
       "4         A0A024R1R8          E5          0.245732         5\n",
       "...              ...         ...               ...       ...\n",
       "11377646      X6R8D5        V123          0.296089       123\n",
       "11377647      X6R8D5        L124          0.260532       124\n",
       "11377648      X6R8D5        W125          0.901605       125\n",
       "11377649      X6R8D5        R126          0.326921       126\n",
       "11377650      X6R8D5        S127          0.407611       127\n",
       "\n",
       "[11377651 rows x 4 columns]"
      ]
     },
     "execution_count": 22,
     "metadata": {},
     "output_type": "execute_result"
    }
   ],
   "source": [
    "df_mean"
   ]
  },
  {
   "cell_type": "code",
   "execution_count": null,
   "id": "69edb8a7-1f97-42d4-82cd-937be8358709",
   "metadata": {},
   "outputs": [],
   "source": []
  }
 ],
 "metadata": {
  "kernelspec": {
   "display_name": "Python 3",
   "language": "python",
   "name": "python3"
  },
  "language_info": {
   "codemirror_mode": {
    "name": "ipython",
    "version": 3
   },
   "file_extension": ".py",
   "mimetype": "text/x-python",
   "name": "python",
   "nbconvert_exporter": "python",
   "pygments_lexer": "ipython3",
   "version": "3.10.10"
  }
 },
 "nbformat": 4,
 "nbformat_minor": 5
}
