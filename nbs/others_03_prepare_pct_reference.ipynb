{
 "cells": [
  {
   "cell_type": "markdown",
   "id": "992e408b-fddd-4595-8479-a009594db25a",
   "metadata": {},
   "source": [
    "# Get reference score to calculate percentile"
   ]
  },
  {
   "cell_type": "markdown",
   "id": "ebcc4604-e8a1-4415-a05c-ff8ecc00f56c",
   "metadata": {},
   "source": [
    "## Setup"
   ]
  },
  {
   "cell_type": "code",
   "execution_count": null,
   "id": "9ef62e2c-e7d7-4342-9804-c7c81a01e61a",
   "metadata": {},
   "outputs": [],
   "source": [
    "from katlas.imports import *\n",
    "import pickle, pandas as pd,numpy as np, seaborn as sns,matplotlib.pyplot as plt\n",
    "from numpy import trapz"
   ]
  },
  {
   "cell_type": "markdown",
   "id": "6341ba23-9640-4be2-9ac5-66507b2d6a4a",
   "metadata": {},
   "source": [
    "## Scoring"
   ]
  },
  {
   "cell_type": "markdown",
   "id": "ed8b5c63-1530-46d7-819c-5c96aefa003b",
   "metadata": {},
   "source": [
    "Below are codes to calculate ochoa score for percentile calculation:"
   ]
  },
  {
   "cell_type": "code",
   "execution_count": null,
   "id": "160db6e1-fadc-4849-bbbf-40fb4f77539a",
   "metadata": {},
   "outputs": [],
   "source": [
    "df = pd.read_csv('ochoa_lew_rank.csv')"
   ]
  },
  {
   "cell_type": "markdown",
   "id": "5fa5d252-c421-4a62-b4bd-2c08641b5cd6",
   "metadata": {},
   "source": [
    "### PSPA"
   ]
  },
  {
   "cell_type": "code",
   "execution_count": null,
   "id": "e782b225-2ff3-4a72-a3e5-1c65d2b52f66",
   "metadata": {},
   "outputs": [
    {
     "name": "stdout",
     "output_type": "stream",
     "text": [
      "input dataframe has a length 89784\n",
      "Preprocessing\n",
      "Finish preprocessing\n",
      "Calculating position: [-5, -4, -3, -2, -1, 0, 1, 2, 3, 4]\n"
     ]
    },
    {
     "name": "stderr",
     "output_type": "stream",
     "text": [
      " 74%|███████▍  | 225/303 [05:43<02:08,  1.64s/it]"
     ]
    }
   ],
   "source": [
    "result = predict_kinase_df(df,'site_seq',**param_PSPA)"
   ]
  },
  {
   "cell_type": "code",
   "execution_count": null,
   "id": "4a0d3f4d-8da9-4180-b188-bd8f40eb188d",
   "metadata": {},
   "outputs": [],
   "source": [
    "# get the percentile score\n",
    "percentile = result.rank(axis=0,pct=True)"
   ]
  },
  {
   "cell_type": "code",
   "execution_count": null,
   "id": "7d686515-d793-4301-8e00-cea7599117ca",
   "metadata": {},
   "outputs": [],
   "source": [
    "(percentile*100).round(2)"
   ]
  },
  {
   "cell_type": "markdown",
   "id": "bd354acf-7e4f-4aaf-8f5f-4e325c41c9bd",
   "metadata": {},
   "source": [
    "Let's compare the above percentile with below target:"
   ]
  },
  {
   "cell_type": "code",
   "execution_count": null,
   "id": "e64bf6af-3f52-42c1-a8a7-f14c69de5f8c",
   "metadata": {},
   "outputs": [],
   "source": [
    "cols=df.columns[df.columns.str.contains('_percentile')][1:]\n",
    "\n",
    "# get the target\n",
    "target = df[cols]"
   ]
  },
  {
   "cell_type": "markdown",
   "id": "143080d0-f28f-4046-8159-53e61b812c6c",
   "metadata": {},
   "source": [
    "They are similar. The differences are due to raw data rounding.\n",
    "\n",
    "Let's save the result for reference."
   ]
  },
  {
   "cell_type": "code",
   "execution_count": null,
   "id": "0235d90c-1665-4f7e-be29-262372a8e1ce",
   "metadata": {},
   "outputs": [],
   "source": [
    "# save the result for reference\n",
    "result.round(3).to_parquet('ochoa_pspa_score.parquet')"
   ]
  },
  {
   "cell_type": "markdown",
   "id": "9e3b4d14-d24e-4a28-b961-1d93583ff280",
   "metadata": {},
   "source": [
    "## To use"
   ]
  },
  {
   "cell_type": "markdown",
   "id": "5ad93c7a-440c-4de3-8e11-0653c7184dde",
   "metadata": {},
   "source": [
    "We've saved the reference sheet in `Data` and can load using the below function:"
   ]
  },
  {
   "cell_type": "code",
   "execution_count": null,
   "id": "b692b6ce-874f-43b2-87a0-8e1193e8c9db",
   "metadata": {},
   "outputs": [],
   "source": [
    "pct_ref = Data.get_ochoa_score()"
   ]
  },
  {
   "cell_type": "code",
   "execution_count": null,
   "id": "d703748c-db2f-4b9b-b534-a20920e0296d",
   "metadata": {},
   "outputs": [
    {
     "name": "stdout",
     "output_type": "stream",
     "text": [
      "input dataframe has a length 35\n",
      "Preprocessing\n",
      "Finish preprocessing\n",
      "Calculating position: [-5, -4, -3, -2, -1, 0, 1, 2, 3, 4]\n"
     ]
    },
    {
     "name": "stderr",
     "output_type": "stream",
     "text": [
      "  0%|          | 0/303 [00:00<?, ?it/s]/usr/local/lib/python3.9/dist-packages/katlas/core.py:575: RuntimeWarning: divide by zero encountered in log2\n",
      "  log_sum = np.sum(np.log2(values)) + (len(values) - 1) * np.log2(divide)\n",
      "100%|██████████| 303/303 [00:00<00:00, 1096.01it/s]\n"
     ]
    }
   ],
   "source": [
    "score_df = predict_kinase_df(df,'site_seq',**param_PSPA)"
   ]
  },
  {
   "cell_type": "code",
   "execution_count": null,
   "id": "6317b220-1279-4814-96cf-ac6d54cb8928",
   "metadata": {},
   "outputs": [],
   "source": [
    "pct = get_pct_df(score_df,pct_ref)"
   ]
  },
  {
   "cell_type": "code",
   "execution_count": null,
   "id": "6fdef671-161a-44f0-a64b-1a89f8b25975",
   "metadata": {},
   "outputs": [],
   "source": [
    "site = 'PGGNIyIsPLksPyk'\n",
    "get_pct(site,pct_ref)"
   ]
  }
 ],
 "metadata": {
  "kernelspec": {
   "display_name": "Python 3",
   "language": "python",
   "name": "python3"
  },
  "language_info": {
   "codemirror_mode": {
    "name": "ipython",
    "version": 3
   },
   "file_extension": ".py",
   "mimetype": "text/x-python",
   "name": "python",
   "nbconvert_exporter": "python",
   "pygments_lexer": "ipython3",
   "version": "3.10.10"
  }
 },
 "nbformat": 4,
 "nbformat_minor": 5
}
