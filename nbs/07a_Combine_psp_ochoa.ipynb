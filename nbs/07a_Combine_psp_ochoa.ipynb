{
 "cells": [
  {
   "cell_type": "markdown",
   "id": "439d5d00-a82d-43a1-a5bb-a0d9940f041d",
   "metadata": {},
   "source": [
    "# Build human phosphoproteome dataset"
   ]
  },
  {
   "cell_type": "markdown",
   "id": "f0fce32a-1404-4f28-a872-33f50ded3299",
   "metadata": {},
   "source": [
    "## Setup"
   ]
  },
  {
   "cell_type": "code",
   "execution_count": 2,
   "id": "78879e8c-52da-40ad-a8f8-367b0b692771",
   "metadata": {},
   "outputs": [],
   "source": [
    "import pandas as pd\n",
    "from matplotlib import pyplot as plt\n",
    "from katlas.core import *\n",
    "import seaborn as sns\n",
    "from tqdm import tqdm\n",
    "import numpy as np\n",
    "\n",
    "tqdm.pandas()"
   ]
  },
  {
   "cell_type": "markdown",
   "id": "fe3b1490-0c24-4cca-a8b6-20d2c5d0b93f",
   "metadata": {},
   "source": [
    "## Load PhosphoSitePlus and Ochoa et al."
   ]
  },
  {
   "cell_type": "code",
   "execution_count": 3,
   "id": "6ce78edc-fbd0-42c2-a0de-65b56a5c991a",
   "metadata": {},
   "outputs": [],
   "source": [
    "ochoa = Data.get_ochoa_site()\n",
    "psp = Data.get_psp_human_site()"
   ]
  },
  {
   "cell_type": "markdown",
   "id": "fa3ff9d3-ff74-4448-8bd7-8bd7f268d40b",
   "metadata": {},
   "source": [
    "Both sets' gene column contains nan"
   ]
  },
  {
   "cell_type": "markdown",
   "id": "8397b888-033a-4e75-8cdd-9773049c1b1c",
   "metadata": {},
   "source": [
    "PSP is gene name, ochoa is porotein name"
   ]
  },
  {
   "cell_type": "markdown",
   "id": "c7d91f1b-fdeb-456f-8ad7-e3f4c7d69c0d",
   "metadata": {},
   "source": [
    "## PSP"
   ]
  },
  {
   "cell_type": "code",
   "execution_count": 4,
   "id": "95973773-e517-48c0-97ee-1e030c73cde6",
   "metadata": {},
   "outputs": [],
   "source": [
    "psp = psp[psp.site.str[0].isin(['S','T','Y'])]"
   ]
  },
  {
   "cell_type": "code",
   "execution_count": 5,
   "id": "7b323334-1b1b-4f4c-9230-f55fb26837ac",
   "metadata": {},
   "outputs": [],
   "source": [
    "psp = psp[psp.LT_LIT.notna()].reset_index(drop=True)"
   ]
  },
  {
   "cell_type": "code",
   "execution_count": 6,
   "id": "4940d412-002a-4864-b384-d1a1a44b9768",
   "metadata": {},
   "outputs": [],
   "source": [
    "psp['site_seq'] = psp['site_seq'].str.upper()"
   ]
  },
  {
   "cell_type": "code",
   "execution_count": 7,
   "id": "299536e3-8b80-4796-95ed-8fff549f0cf4",
   "metadata": {},
   "outputs": [],
   "source": [
    "psp = psp[['gene','uniprot','site','site_seq']]"
   ]
  },
  {
   "cell_type": "markdown",
   "id": "94b29d11-e4cd-4f88-a3cb-76692abc13ac",
   "metadata": {},
   "source": [
    "## Ochoa"
   ]
  },
  {
   "cell_type": "code",
   "execution_count": 8,
   "id": "4e2aa1f1-a5ab-4868-8904-64ec67870736",
   "metadata": {},
   "outputs": [],
   "source": [
    "ochoa['site'] = ochoa.residue+ochoa.position.astype(str)"
   ]
  },
  {
   "cell_type": "code",
   "execution_count": 9,
   "id": "2bfa61c3-f084-48ba-b7b1-38f90c17fe17",
   "metadata": {},
   "outputs": [],
   "source": [
    "ochoa = ochoa[['gene','current_uniprot','site','site_seq']]"
   ]
  },
  {
   "cell_type": "code",
   "execution_count": 10,
   "id": "cd0f137b-16e4-4c79-aacf-75164715e15d",
   "metadata": {},
   "outputs": [],
   "source": [
    "ochoa = ochoa.rename(columns={'current_uniprot':'uniprot'})"
   ]
  },
  {
   "cell_type": "markdown",
   "id": "70d5faf5-a2d5-4700-ac07-307c27b83f13",
   "metadata": {},
   "source": [
    "## Combine"
   ]
  },
  {
   "cell_type": "code",
   "execution_count": 11,
   "id": "8f87f781-ebf8-4ea3-82ec-254f16248267",
   "metadata": {},
   "outputs": [],
   "source": [
    "ochoa['source']='ochoa'"
   ]
  },
  {
   "cell_type": "code",
   "execution_count": 12,
   "id": "327061a8-2459-464f-b843-19e70ee42280",
   "metadata": {},
   "outputs": [],
   "source": [
    "psp['source']='psp'"
   ]
  },
  {
   "cell_type": "code",
   "execution_count": 13,
   "id": "43a00202-3434-438b-8e87-d53e7e0644a6",
   "metadata": {},
   "outputs": [],
   "source": [
    "comb = psp.merge(ochoa,how='outer',on=['uniprot','site'],suffixes=('_psp','_ochoa'))"
   ]
  },
  {
   "cell_type": "code",
   "execution_count": 14,
   "id": "53890f17-b971-4d2b-8f74-f7521a6b5350",
   "metadata": {},
   "outputs": [],
   "source": [
    "def join_columns(row, columns):\n",
    "    \"Join non-NA values from specified columns with a separator\"\n",
    "    valid_values = set(row[col] for col in columns if pd.notna(row[col]))\n",
    "    # return nan if all empty list\n",
    "    return np.nan if not valid_values else '|'.join(valid_values)"
   ]
  },
  {
   "cell_type": "code",
   "execution_count": 15,
   "id": "259811f2-df8d-4ecd-b671-3fecb69aeb08",
   "metadata": {},
   "outputs": [],
   "source": [
    "comb['gene'] = comb.apply(lambda r: join_columns(r, ['gene_psp','gene_ochoa']), axis=1)\n",
    "\n",
    "comb['source'] = comb.apply(lambda r: join_columns(r, ['source_psp','source_ochoa']), axis=1)\n",
    "\n",
    "comb['site_seq'] = comb.apply(lambda r: join_columns(r, ['site_seq_psp','site_seq_ochoa']), axis=1)"
   ]
  },
  {
   "cell_type": "code",
   "execution_count": 16,
   "id": "8fc3c7fc-33f3-4e7d-bde1-44fd4bac5f01",
   "metadata": {},
   "outputs": [],
   "source": [
    "comb = comb[['uniprot','gene','site','site_seq','source']]"
   ]
  },
  {
   "cell_type": "code",
   "execution_count": 17,
   "id": "fdaf0483-e297-4cfa-84f0-fa470d48beb0",
   "metadata": {},
   "outputs": [
    {
     "data": {
      "text/plain": [
       "source\n",
       "ochoa        106327\n",
       "psp            9138\n",
       "ochoa|psp      5954\n",
       "Name: count, dtype: int64"
      ]
     },
     "execution_count": 17,
     "metadata": {},
     "output_type": "execute_result"
    }
   ],
   "source": [
    "comb.source.value_counts()"
   ]
  },
  {
   "cell_type": "code",
   "execution_count": 18,
   "id": "947802c4-a8cd-4f5e-a08b-800f315d0f88",
   "metadata": {},
   "outputs": [
    {
     "data": {
      "text/plain": [
       "(121419, 5)"
      ]
     },
     "execution_count": 18,
     "metadata": {},
     "output_type": "execute_result"
    }
   ],
   "source": [
    "comb.shape"
   ]
  },
  {
   "cell_type": "code",
   "execution_count": 19,
   "id": "614c4b10-3f7d-49c5-8aec-a12fd508071c",
   "metadata": {},
   "outputs": [],
   "source": [
    "comb['position'] =comb.site.str[1:].astype(int)\n",
    "\n",
    "comb = comb.sort_values(by=['uniprot', 'position']).reset_index(drop=True)\n",
    "\n",
    "comb = comb.iloc[:,:5]"
   ]
  },
  {
   "cell_type": "markdown",
   "id": "5d0287d5-e858-41ea-bd16-141c564c72ac",
   "metadata": {},
   "source": [
    "To save and load:"
   ]
  },
  {
   "cell_type": "code",
   "execution_count": 20,
   "id": "a2053799-b70a-4ec4-af1f-476cb7c0bfa3",
   "metadata": {},
   "outputs": [],
   "source": [
    "# comb.to_parquet('combine_site_psp_ochoa.parquet')\n",
    "\n",
    "# comb = pd.read_parquet('combine_site_psp_ochoa.parquet')"
   ]
  },
  {
   "cell_type": "markdown",
   "id": "f6b1c4db-702a-4394-ae08-54a73831bbfe",
   "metadata": {},
   "source": [
    "## Query uniprot sequence on uniprot; mapping sequence"
   ]
  },
  {
   "cell_type": "markdown",
   "id": "618a228e-ce75-4865-917d-edf66cf086e9",
   "metadata": {},
   "source": [
    "Uncheck below to use the csv for uniprot id mapping"
   ]
  },
  {
   "cell_type": "code",
   "execution_count": 21,
   "id": "1a33aa19-2ade-4933-80c1-353ca805fe48",
   "metadata": {},
   "outputs": [],
   "source": [
    "# comb.drop_duplicates(subset='uniprot').to_csv('uniprot.csv',index=False)"
   ]
  },
  {
   "cell_type": "code",
   "execution_count": 22,
   "id": "40b1ae6e-e7ba-4660-b3a1-06ccfd0deec8",
   "metadata": {},
   "outputs": [],
   "source": [
    "# unmapped = pd.Series(['AAC50053',\n",
    "# 'P18433-2',\n",
    "# 'AAA58698',\n",
    "# 'NP_001184222',\n",
    "# 'AAA60149'])"
   ]
  },
  {
   "cell_type": "code",
   "execution_count": 23,
   "id": "ab17ed21-8e55-4a18-87bf-c30ea0409335",
   "metadata": {},
   "outputs": [],
   "source": [
    "sequence = pd.read_excel('raw/idmapping_2024_06_17.xlsx')\n",
    "\n",
    "# there are few duplicates uniprot (history uniprot)\n",
    "sequence = sequence.drop_duplicates(subset='uniprot')"
   ]
  },
  {
   "cell_type": "code",
   "execution_count": 24,
   "id": "68d33aa8-03fe-4364-8981-ccb66e5f6de5",
   "metadata": {},
   "outputs": [],
   "source": [
    "seq = sequence[['uniprot','sequence']].copy()"
   ]
  },
  {
   "cell_type": "code",
   "execution_count": 25,
   "id": "5885628a-af12-43de-afbe-d48d0f08aecb",
   "metadata": {},
   "outputs": [],
   "source": [
    "comb = comb.merge(seq,how='inner',on='uniprot')"
   ]
  },
  {
   "cell_type": "code",
   "execution_count": 26,
   "id": "38abe6ee-e4ac-45ae-b37c-39100a0591ae",
   "metadata": {},
   "outputs": [
    {
     "data": {
      "text/plain": [
       "(121272, 6)"
      ]
     },
     "execution_count": 26,
     "metadata": {},
     "output_type": "execute_result"
    }
   ],
   "source": [
    "comb.shape"
   ]
  },
  {
   "cell_type": "code",
   "execution_count": 27,
   "id": "3222eae6-2fb7-40d6-8402-2583d43ddc1b",
   "metadata": {},
   "outputs": [
    {
     "data": {
      "text/plain": [
       "147"
      ]
     },
     "execution_count": 27,
     "metadata": {},
     "output_type": "execute_result"
    }
   ],
   "source": [
    "121419-121272 # unmatched"
   ]
  },
  {
   "cell_type": "markdown",
   "id": "2b11c0de-2bfa-4452-8b34-806fe29e340d",
   "metadata": {},
   "source": [
    "## Validate position"
   ]
  },
  {
   "cell_type": "code",
   "execution_count": 28,
   "id": "13596eb6-9081-436c-8a97-2bad5c710623",
   "metadata": {},
   "outputs": [],
   "source": [
    "comb['position'] = comb.site.str[1:].astype(int)"
   ]
  },
  {
   "cell_type": "code",
   "execution_count": 29,
   "id": "693e8697-c405-43ee-9dcc-287bcc69155d",
   "metadata": {},
   "outputs": [],
   "source": [
    "comb['acceptor'] = comb.site.str[0]"
   ]
  },
  {
   "cell_type": "code",
   "execution_count": 30,
   "id": "70b15e94-3aa0-41bb-b7f7-38e2984027a2",
   "metadata": {},
   "outputs": [],
   "source": [
    "def validate_position(row):\n",
    "    # Extract amino acid and position from the new columns\n",
    "    amino_acid = row['acceptor']\n",
    "    position = int(row['position'])\n",
    "    \n",
    "    try:\n",
    "        # Check if the amino acid at the given position matches the specified amino acid\n",
    "        if row['sequence'][position-1] == amino_acid:\n",
    "            return 1\n",
    "        else:\n",
    "            return 0\n",
    "    except IndexError:  # Handle the case when position-1 exceeds the length of sequence\n",
    "        return 0"
   ]
  },
  {
   "cell_type": "code",
   "execution_count": 31,
   "id": "98cb143f-03f6-45d6-a7ba-17aeea185d1e",
   "metadata": {},
   "outputs": [],
   "source": [
    "comb['is_valid'] = comb.apply(validate_position,axis=1)"
   ]
  },
  {
   "cell_type": "code",
   "execution_count": 32,
   "id": "525952ea-8137-4aca-ad32-a38abea9fbbe",
   "metadata": {},
   "outputs": [
    {
     "data": {
      "text/plain": [
       "is_valid\n",
       "1    120104\n",
       "0      1168\n",
       "Name: count, dtype: int64"
      ]
     },
     "execution_count": 32,
     "metadata": {},
     "output_type": "execute_result"
    }
   ],
   "source": [
    "comb.is_valid.value_counts()"
   ]
  },
  {
   "cell_type": "code",
   "execution_count": 33,
   "id": "e745d22f-eb6b-4015-ad82-1dcd41b1f906",
   "metadata": {},
   "outputs": [],
   "source": [
    "comb = comb[comb.is_valid==1]"
   ]
  },
  {
   "cell_type": "code",
   "execution_count": 34,
   "id": "e23a3c21-e202-4a5f-ae3d-afcaa331a2ec",
   "metadata": {},
   "outputs": [
    {
     "data": {
      "text/plain": [
       "source\n",
       "ochoa        105775\n",
       "psp            8382\n",
       "ochoa|psp      5947\n",
       "Name: count, dtype: int64"
      ]
     },
     "execution_count": 34,
     "metadata": {},
     "output_type": "execute_result"
    }
   ],
   "source": [
    "comb.source.value_counts()"
   ]
  },
  {
   "cell_type": "code",
   "execution_count": 35,
   "id": "f7640ee6-27ce-4240-b189-fe858388e7ae",
   "metadata": {},
   "outputs": [
    {
     "data": {
      "text/plain": [
       "(120104, 9)"
      ]
     },
     "execution_count": 35,
     "metadata": {},
     "output_type": "execute_result"
    }
   ],
   "source": [
    "comb.shape"
   ]
  },
  {
   "cell_type": "markdown",
   "id": "59b67b5d-edaa-4a81-909d-0f897a6a0f3a",
   "metadata": {},
   "source": [
    "## Phosphorylate sequence"
   ]
  },
  {
   "cell_type": "code",
   "execution_count": 36,
   "id": "a336c72f-840d-43bd-9610-e292943b54c7",
   "metadata": {},
   "outputs": [],
   "source": [
    "modify=comb.groupby('uniprot').agg({'site':lambda r: r.unique()}).reset_index()"
   ]
  },
  {
   "cell_type": "code",
   "execution_count": 37,
   "id": "8a07229f-539f-4a0f-88b3-39d309320aa7",
   "metadata": {},
   "outputs": [],
   "source": [
    "modify = modify.merge(seq)"
   ]
  },
  {
   "cell_type": "code",
   "execution_count": 38,
   "id": "90d27390-6a23-4624-8919-73a0d30a7554",
   "metadata": {},
   "outputs": [],
   "source": [
    "def phosphorylate_seq(row):\n",
    "    seq = list(row['sequence'])\n",
    "    for pos in row['site']:\n",
    "        # extract character and position\n",
    "        position = int(pos[1:]) - 1  # Subtracting 1 because Python uses 0-based indexing\n",
    "\n",
    "        # convert sequence\n",
    "        seq[position] = seq[position].lower()\n",
    "    return ''.join(seq)"
   ]
  },
  {
   "cell_type": "code",
   "execution_count": 39,
   "id": "f6f2bbc5-7c0b-40de-b804-2006ccc11bc3",
   "metadata": {},
   "outputs": [],
   "source": [
    "modify['phospho_seq'] = modify.apply(phosphorylate_seq,axis=1)"
   ]
  },
  {
   "cell_type": "code",
   "execution_count": 40,
   "id": "45ffe804-3516-418f-8616-3f3ec5ca2737",
   "metadata": {},
   "outputs": [],
   "source": [
    "seq2 = modify[['uniprot','phospho_seq']]"
   ]
  },
  {
   "cell_type": "markdown",
   "id": "1510dfff-1420-4284-863a-f7fdf796873c",
   "metadata": {},
   "source": [
    "## Extract sequence"
   ]
  },
  {
   "cell_type": "code",
   "execution_count": 41,
   "id": "1947d918-a106-478e-878e-c26f6ef0df0d",
   "metadata": {},
   "outputs": [],
   "source": [
    "comb = comb.merge(seq2)"
   ]
  },
  {
   "cell_type": "code",
   "execution_count": 42,
   "id": "fbc6b9f9-4e2d-499a-a940-610f53d0449d",
   "metadata": {},
   "outputs": [
    {
     "data": {
      "text/plain": [
       "(120104, 10)"
      ]
     },
     "execution_count": 42,
     "metadata": {},
     "output_type": "execute_result"
    }
   ],
   "source": [
    "comb.shape"
   ]
  },
  {
   "cell_type": "code",
   "execution_count": 43,
   "id": "e80faebb-ec43-4ec4-8200-510d9fe427a5",
   "metadata": {},
   "outputs": [
    {
     "name": "stderr",
     "output_type": "stream",
     "text": [
      "100%|██████████| 120104/120104 [00:03<00:00, 31171.64it/s]\n"
     ]
    }
   ],
   "source": [
    "site_seq = extract_site_seq(comb,'phospho_seq','position')"
   ]
  },
  {
   "cell_type": "code",
   "execution_count": 44,
   "id": "5bb00c69-0cc7-45fe-82fa-debdcc271c16",
   "metadata": {},
   "outputs": [],
   "source": [
    "comb['site_seq'] = site_seq"
   ]
  },
  {
   "cell_type": "code",
   "execution_count": 45,
   "id": "6c268867-d6ab-4d52-81a3-5eb78b42b631",
   "metadata": {},
   "outputs": [
    {
     "data": {
      "text/plain": [
       "(120104, 10)"
      ]
     },
     "execution_count": 45,
     "metadata": {},
     "output_type": "execute_result"
    }
   ],
   "source": [
    "comb.shape"
   ]
  },
  {
   "cell_type": "markdown",
   "id": "69e5eb1c-9eeb-4b8d-81e2-df84f440ee36",
   "metadata": {},
   "source": [
    "Reorder"
   ]
  },
  {
   "cell_type": "code",
   "execution_count": 46,
   "id": "51536e5f-d344-42b6-a7cd-5a37d9e51476",
   "metadata": {},
   "outputs": [],
   "source": [
    "comb['position'] =comb.site.str[1:].astype(int)\n",
    "\n",
    "comb = comb.sort_values(by=['uniprot', 'position']).reset_index(drop=True)\n",
    "\n",
    "comb = comb.iloc[:,:5]"
   ]
  },
  {
   "cell_type": "markdown",
   "id": "71c24af7-93d8-4e8f-99b0-d227f4f9d486",
   "metadata": {},
   "source": [
    "To save and load:"
   ]
  },
  {
   "cell_type": "code",
   "execution_count": 47,
   "id": "3a8568de-96f1-4985-b3da-36b9a9fe0e62",
   "metadata": {},
   "outputs": [],
   "source": [
    "# comb.to_parquet('phosphorylated_combine_site.parquet')\n",
    "\n",
    "# comb=pd.read_parquet('phosphorylated_combine_site.parquet')"
   ]
  },
  {
   "cell_type": "code",
   "execution_count": 48,
   "id": "2540fa0a-adb2-4776-bf14-9e3900405159",
   "metadata": {},
   "outputs": [
    {
     "data": {
      "text/html": [
       "<div>\n",
       "<style scoped>\n",
       "    .dataframe tbody tr th:only-of-type {\n",
       "        vertical-align: middle;\n",
       "    }\n",
       "\n",
       "    .dataframe tbody tr th {\n",
       "        vertical-align: top;\n",
       "    }\n",
       "\n",
       "    .dataframe thead th {\n",
       "        text-align: right;\n",
       "    }\n",
       "</style>\n",
       "<table border=\"1\" class=\"dataframe\">\n",
       "  <thead>\n",
       "    <tr style=\"text-align: right;\">\n",
       "      <th></th>\n",
       "      <th>uniprot</th>\n",
       "      <th>gene</th>\n",
       "      <th>site</th>\n",
       "      <th>site_seq</th>\n",
       "      <th>source</th>\n",
       "    </tr>\n",
       "  </thead>\n",
       "  <tbody>\n",
       "    <tr>\n",
       "      <th>0</th>\n",
       "      <td>A0A024R4G9</td>\n",
       "      <td>C19orf48</td>\n",
       "      <td>S20</td>\n",
       "      <td>ITGSRLLsMVPGPAR</td>\n",
       "      <td>psp</td>\n",
       "    </tr>\n",
       "    <tr>\n",
       "      <th>1</th>\n",
       "      <td>A0A075B6Q4</td>\n",
       "      <td>NaN</td>\n",
       "      <td>S24</td>\n",
       "      <td>VDDEKGDsNDDYDSA</td>\n",
       "      <td>ochoa</td>\n",
       "    </tr>\n",
       "    <tr>\n",
       "      <th>2</th>\n",
       "      <td>A0A075B6Q4</td>\n",
       "      <td>NaN</td>\n",
       "      <td>S35</td>\n",
       "      <td>YDSAGLLsDEDCMSV</td>\n",
       "      <td>ochoa</td>\n",
       "    </tr>\n",
       "    <tr>\n",
       "      <th>3</th>\n",
       "      <td>A0A075B6Q4</td>\n",
       "      <td>NaN</td>\n",
       "      <td>S57</td>\n",
       "      <td>IADHLFWsEETKSRF</td>\n",
       "      <td>ochoa</td>\n",
       "    </tr>\n",
       "    <tr>\n",
       "      <th>4</th>\n",
       "      <td>A0A075B6Q4</td>\n",
       "      <td>NaN</td>\n",
       "      <td>S68</td>\n",
       "      <td>KSRFTEYsMTssVMR</td>\n",
       "      <td>ochoa</td>\n",
       "    </tr>\n",
       "    <tr>\n",
       "      <th>...</th>\n",
       "      <td>...</td>\n",
       "      <td>...</td>\n",
       "      <td>...</td>\n",
       "      <td>...</td>\n",
       "      <td>...</td>\n",
       "    </tr>\n",
       "    <tr>\n",
       "      <th>120099</th>\n",
       "      <td>V9GYY5</td>\n",
       "      <td>NaN</td>\n",
       "      <td>S127</td>\n",
       "      <td>EGGAGDRsEEEAsst</td>\n",
       "      <td>ochoa</td>\n",
       "    </tr>\n",
       "    <tr>\n",
       "      <th>120100</th>\n",
       "      <td>V9GYY5</td>\n",
       "      <td>NaN</td>\n",
       "      <td>S132</td>\n",
       "      <td>DRsEEEAsstEKPtK</td>\n",
       "      <td>ochoa</td>\n",
       "    </tr>\n",
       "    <tr>\n",
       "      <th>120101</th>\n",
       "      <td>V9GYY5</td>\n",
       "      <td>NaN</td>\n",
       "      <td>S133</td>\n",
       "      <td>RsEEEAsstEKPtKA</td>\n",
       "      <td>ochoa</td>\n",
       "    </tr>\n",
       "    <tr>\n",
       "      <th>120102</th>\n",
       "      <td>V9GYY5</td>\n",
       "      <td>NaN</td>\n",
       "      <td>T134</td>\n",
       "      <td>sEEEAsstEKPtKAL</td>\n",
       "      <td>ochoa</td>\n",
       "    </tr>\n",
       "    <tr>\n",
       "      <th>120103</th>\n",
       "      <td>V9GYY5</td>\n",
       "      <td>NaN</td>\n",
       "      <td>T138</td>\n",
       "      <td>AsstEKPtKALPRKS</td>\n",
       "      <td>ochoa</td>\n",
       "    </tr>\n",
       "  </tbody>\n",
       "</table>\n",
       "<p>120104 rows × 5 columns</p>\n",
       "</div>"
      ],
      "text/plain": [
       "           uniprot      gene  site         site_seq source\n",
       "0       A0A024R4G9  C19orf48   S20  ITGSRLLsMVPGPAR    psp\n",
       "1       A0A075B6Q4       NaN   S24  VDDEKGDsNDDYDSA  ochoa\n",
       "2       A0A075B6Q4       NaN   S35  YDSAGLLsDEDCMSV  ochoa\n",
       "3       A0A075B6Q4       NaN   S57  IADHLFWsEETKSRF  ochoa\n",
       "4       A0A075B6Q4       NaN   S68  KSRFTEYsMTssVMR  ochoa\n",
       "...            ...       ...   ...              ...    ...\n",
       "120099      V9GYY5       NaN  S127  EGGAGDRsEEEAsst  ochoa\n",
       "120100      V9GYY5       NaN  S132  DRsEEEAsstEKPtK  ochoa\n",
       "120101      V9GYY5       NaN  S133  RsEEEAsstEKPtKA  ochoa\n",
       "120102      V9GYY5       NaN  T134  sEEEAsstEKPtKAL  ochoa\n",
       "120103      V9GYY5       NaN  T138  AsstEKPtKALPRKS  ochoa\n",
       "\n",
       "[120104 rows x 5 columns]"
      ]
     },
     "execution_count": 48,
     "metadata": {},
     "output_type": "execute_result"
    }
   ],
   "source": [
    "comb"
   ]
  },
  {
   "cell_type": "markdown",
   "id": "6e107014-7e85-481c-aad6-7679fa97ff38",
   "metadata": {},
   "source": [
    "## Access the dataset through `Data`"
   ]
  },
  {
   "cell_type": "code",
   "execution_count": 49,
   "id": "28501f54-4031-4262-ba9a-6a5393cfabd7",
   "metadata": {},
   "outputs": [
    {
     "data": {
      "text/html": [
       "<div>\n",
       "<style scoped>\n",
       "    .dataframe tbody tr th:only-of-type {\n",
       "        vertical-align: middle;\n",
       "    }\n",
       "\n",
       "    .dataframe tbody tr th {\n",
       "        vertical-align: top;\n",
       "    }\n",
       "\n",
       "    .dataframe thead th {\n",
       "        text-align: right;\n",
       "    }\n",
       "</style>\n",
       "<table border=\"1\" class=\"dataframe\">\n",
       "  <thead>\n",
       "    <tr style=\"text-align: right;\">\n",
       "      <th></th>\n",
       "      <th>uniprot</th>\n",
       "      <th>gene</th>\n",
       "      <th>site</th>\n",
       "      <th>site_seq</th>\n",
       "      <th>source</th>\n",
       "      <th>AM_pathogenicity</th>\n",
       "      <th>CDDM_upper</th>\n",
       "      <th>CDDM_max_score</th>\n",
       "    </tr>\n",
       "  </thead>\n",
       "  <tbody>\n",
       "    <tr>\n",
       "      <th>0</th>\n",
       "      <td>A0A024R4G9</td>\n",
       "      <td>C19orf48</td>\n",
       "      <td>S20</td>\n",
       "      <td>ITGSRLLSMVPGPAR</td>\n",
       "      <td>psp</td>\n",
       "      <td>NaN</td>\n",
       "      <td>PRKX,AKT1,PKG1,P90RSK,HIPK4,AKT3,HIPK1,PKACB,H...</td>\n",
       "      <td>2.407041</td>\n",
       "    </tr>\n",
       "    <tr>\n",
       "      <th>1</th>\n",
       "      <td>A0A075B6Q4</td>\n",
       "      <td>None</td>\n",
       "      <td>S24</td>\n",
       "      <td>VDDEKGDSNDDYDSA</td>\n",
       "      <td>ochoa</td>\n",
       "      <td>NaN</td>\n",
       "      <td>CK2A2,CK2A1,GRK7,GRK5,CK1G1,CK1A,IKKA,CK1G2,CA...</td>\n",
       "      <td>2.295654</td>\n",
       "    </tr>\n",
       "    <tr>\n",
       "      <th>2</th>\n",
       "      <td>A0A075B6Q4</td>\n",
       "      <td>None</td>\n",
       "      <td>S35</td>\n",
       "      <td>YDSAGLLSDEDCMSV</td>\n",
       "      <td>ochoa</td>\n",
       "      <td>NaN</td>\n",
       "      <td>CK2A2,CK2A1,IKKA,ATM,IKKB,CAMK1D,MARK2,GRK7,IK...</td>\n",
       "      <td>2.488683</td>\n",
       "    </tr>\n",
       "    <tr>\n",
       "      <th>3</th>\n",
       "      <td>A0A075B6Q4</td>\n",
       "      <td>None</td>\n",
       "      <td>S57</td>\n",
       "      <td>IADHLFWSEETKSRF</td>\n",
       "      <td>ochoa</td>\n",
       "      <td>NaN</td>\n",
       "      <td>GRK7,CK2A1,CK2A2,PKN2,GRK1,GRK5,MARK1,MARK2,UL...</td>\n",
       "      <td>1.851894</td>\n",
       "    </tr>\n",
       "    <tr>\n",
       "      <th>4</th>\n",
       "      <td>A0A075B6Q4</td>\n",
       "      <td>None</td>\n",
       "      <td>S68</td>\n",
       "      <td>KSRFTEYSMTSSVMR</td>\n",
       "      <td>ochoa</td>\n",
       "      <td>NaN</td>\n",
       "      <td>AKT1,P90RSK,AKT3,SGK1,AKT2,NDR2,RSK2,P70S6K,RS...</td>\n",
       "      <td>2.026384</td>\n",
       "    </tr>\n",
       "    <tr>\n",
       "      <th>...</th>\n",
       "      <td>...</td>\n",
       "      <td>...</td>\n",
       "      <td>...</td>\n",
       "      <td>...</td>\n",
       "      <td>...</td>\n",
       "      <td>...</td>\n",
       "      <td>...</td>\n",
       "      <td>...</td>\n",
       "    </tr>\n",
       "    <tr>\n",
       "      <th>121414</th>\n",
       "      <td>V9GYY5</td>\n",
       "      <td>None</td>\n",
       "      <td>S127</td>\n",
       "      <td>EGGAGDRSEEEASST</td>\n",
       "      <td>ochoa</td>\n",
       "      <td>NaN</td>\n",
       "      <td>CK2A1,CK2A2,GRK7,GRK5,ALK2,GRK1,CK1E,PLK3,CK1A...</td>\n",
       "      <td>2.665606</td>\n",
       "    </tr>\n",
       "    <tr>\n",
       "      <th>121415</th>\n",
       "      <td>V9GYY5</td>\n",
       "      <td>None</td>\n",
       "      <td>S132</td>\n",
       "      <td>DRSEEEASSTEKPTK</td>\n",
       "      <td>ochoa</td>\n",
       "      <td>NaN</td>\n",
       "      <td>CK2A2,CK2A1,GRK7,TGFBR1,GRK2,ALK2,PLK3,CLK3,BM...</td>\n",
       "      <td>2.445179</td>\n",
       "    </tr>\n",
       "    <tr>\n",
       "      <th>121416</th>\n",
       "      <td>V9GYY5</td>\n",
       "      <td>None</td>\n",
       "      <td>S133</td>\n",
       "      <td>RSEEEASSTEKPTKA</td>\n",
       "      <td>ochoa</td>\n",
       "      <td>NaN</td>\n",
       "      <td>CK2A1,ATR,GRK1,CK1G1,PLK3,CLK3,GRK7,CK1G2,MARK...</td>\n",
       "      <td>2.090739</td>\n",
       "    </tr>\n",
       "    <tr>\n",
       "      <th>121417</th>\n",
       "      <td>V9GYY5</td>\n",
       "      <td>None</td>\n",
       "      <td>T134</td>\n",
       "      <td>SEEEASSTEKPTKAL</td>\n",
       "      <td>ochoa</td>\n",
       "      <td>NaN</td>\n",
       "      <td>ASK1,PERK,EEF2K,MAP2K4,MEKK2,MST1,BMPR1B,OSR1,...</td>\n",
       "      <td>1.832532</td>\n",
       "    </tr>\n",
       "    <tr>\n",
       "      <th>121418</th>\n",
       "      <td>V9GYY5</td>\n",
       "      <td>None</td>\n",
       "      <td>T138</td>\n",
       "      <td>ASSTEKPTKALPRKS</td>\n",
       "      <td>ochoa</td>\n",
       "      <td>NaN</td>\n",
       "      <td>ASK1,MEK2,MPSK1,TNIK,PBK,MST2,MINK,NEK4,LKB1,MEK5</td>\n",
       "      <td>1.807565</td>\n",
       "    </tr>\n",
       "  </tbody>\n",
       "</table>\n",
       "<p>121419 rows × 8 columns</p>\n",
       "</div>"
      ],
      "text/plain": [
       "           uniprot      gene  site         site_seq source  AM_pathogenicity  \\\n",
       "0       A0A024R4G9  C19orf48   S20  ITGSRLLSMVPGPAR    psp               NaN   \n",
       "1       A0A075B6Q4      None   S24  VDDEKGDSNDDYDSA  ochoa               NaN   \n",
       "2       A0A075B6Q4      None   S35  YDSAGLLSDEDCMSV  ochoa               NaN   \n",
       "3       A0A075B6Q4      None   S57  IADHLFWSEETKSRF  ochoa               NaN   \n",
       "4       A0A075B6Q4      None   S68  KSRFTEYSMTSSVMR  ochoa               NaN   \n",
       "...            ...       ...   ...              ...    ...               ...   \n",
       "121414      V9GYY5      None  S127  EGGAGDRSEEEASST  ochoa               NaN   \n",
       "121415      V9GYY5      None  S132  DRSEEEASSTEKPTK  ochoa               NaN   \n",
       "121416      V9GYY5      None  S133  RSEEEASSTEKPTKA  ochoa               NaN   \n",
       "121417      V9GYY5      None  T134  SEEEASSTEKPTKAL  ochoa               NaN   \n",
       "121418      V9GYY5      None  T138  ASSTEKPTKALPRKS  ochoa               NaN   \n",
       "\n",
       "                                               CDDM_upper  CDDM_max_score  \n",
       "0       PRKX,AKT1,PKG1,P90RSK,HIPK4,AKT3,HIPK1,PKACB,H...        2.407041  \n",
       "1       CK2A2,CK2A1,GRK7,GRK5,CK1G1,CK1A,IKKA,CK1G2,CA...        2.295654  \n",
       "2       CK2A2,CK2A1,IKKA,ATM,IKKB,CAMK1D,MARK2,GRK7,IK...        2.488683  \n",
       "3       GRK7,CK2A1,CK2A2,PKN2,GRK1,GRK5,MARK1,MARK2,UL...        1.851894  \n",
       "4       AKT1,P90RSK,AKT3,SGK1,AKT2,NDR2,RSK2,P70S6K,RS...        2.026384  \n",
       "...                                                   ...             ...  \n",
       "121414  CK2A1,CK2A2,GRK7,GRK5,ALK2,GRK1,CK1E,PLK3,CK1A...        2.665606  \n",
       "121415  CK2A2,CK2A1,GRK7,TGFBR1,GRK2,ALK2,PLK3,CLK3,BM...        2.445179  \n",
       "121416  CK2A1,ATR,GRK1,CK1G1,PLK3,CLK3,GRK7,CK1G2,MARK...        2.090739  \n",
       "121417  ASK1,PERK,EEF2K,MAP2K4,MEKK2,MST1,BMPR1B,OSR1,...        1.832532  \n",
       "121418  ASK1,MEK2,MPSK1,TNIK,PBK,MST2,MINK,NEK4,LKB1,MEK5        1.807565  \n",
       "\n",
       "[121419 rows x 8 columns]"
      ]
     },
     "execution_count": 49,
     "metadata": {},
     "output_type": "execute_result"
    }
   ],
   "source": [
    "Data.get_combine_site_psp_ochoa()"
   ]
  },
  {
   "cell_type": "code",
   "execution_count": 50,
   "id": "a8fb11e8-e366-46e2-8545-2a36d9867b2e",
   "metadata": {},
   "outputs": [],
   "source": [
    "comb2 = Data.get_combine_site_phosphorylated()"
   ]
  },
  {
   "cell_type": "code",
   "execution_count": 51,
   "id": "d43a8667-cfd1-4f72-ac76-49a4a6c1d584",
   "metadata": {},
   "outputs": [
    {
     "data": {
      "text/html": [
       "<div>\n",
       "<style scoped>\n",
       "    .dataframe tbody tr th:only-of-type {\n",
       "        vertical-align: middle;\n",
       "    }\n",
       "\n",
       "    .dataframe tbody tr th {\n",
       "        vertical-align: top;\n",
       "    }\n",
       "\n",
       "    .dataframe thead th {\n",
       "        text-align: right;\n",
       "    }\n",
       "</style>\n",
       "<table border=\"1\" class=\"dataframe\">\n",
       "  <thead>\n",
       "    <tr style=\"text-align: right;\">\n",
       "      <th></th>\n",
       "      <th>uniprot</th>\n",
       "      <th>gene</th>\n",
       "      <th>site</th>\n",
       "      <th>site_seq</th>\n",
       "      <th>source</th>\n",
       "      <th>AM_pathogenicity</th>\n",
       "      <th>CDDM</th>\n",
       "      <th>PSPA</th>\n",
       "      <th>CDDM_max_score</th>\n",
       "      <th>PSPA_max_score</th>\n",
       "    </tr>\n",
       "  </thead>\n",
       "  <tbody>\n",
       "    <tr>\n",
       "      <th>28253</th>\n",
       "      <td>P35222</td>\n",
       "      <td>CTNNB1</td>\n",
       "      <td>T3</td>\n",
       "      <td>_____MAtQADLMEL</td>\n",
       "      <td>ochoa</td>\n",
       "      <td>0.350216</td>\n",
       "      <td>ATR,ATM,DNAPK,CAMKK1,CAMKK2,PBK,ASK1,OSR1,TNIK...</td>\n",
       "      <td>MARK1,MARK2,DNAPK,ATR,SMG1,HUNK,QSK,MARK3,MARK...</td>\n",
       "      <td>1.685871</td>\n",
       "      <td>2.839518</td>\n",
       "    </tr>\n",
       "    <tr>\n",
       "      <th>28254</th>\n",
       "      <td>P35222</td>\n",
       "      <td>CTNNB1</td>\n",
       "      <td>S23</td>\n",
       "      <td>PDRKAAVsHWQQQsy</td>\n",
       "      <td>psp</td>\n",
       "      <td>0.434195</td>\n",
       "      <td>P90RSK,RSK4,MARK1,RSK2,AKT1,TSSK2,SGK1,P70S6K,...</td>\n",
       "      <td>SSTK,BRSK1,PRKD3,BRSK2,P70S6K,SNRK,MARK3,MAPKA...</td>\n",
       "      <td>1.795827</td>\n",
       "      <td>3.255439</td>\n",
       "    </tr>\n",
       "    <tr>\n",
       "      <th>28255</th>\n",
       "      <td>P35222</td>\n",
       "      <td>CTNNB1</td>\n",
       "      <td>S29</td>\n",
       "      <td>VsHWQQQsyLDsGIH</td>\n",
       "      <td>ochoa|psp</td>\n",
       "      <td>0.628389</td>\n",
       "      <td>PAK4,CAMK1D,NIM1,LATS2,PAK5,TBK1,TSSK1,GRK7,NU...</td>\n",
       "      <td>GSK3A,GSK3B,LATS2,MAPKAPK2,CAMK2A,CAMK2B,LATS1...</td>\n",
       "      <td>1.693298</td>\n",
       "      <td>6.465129</td>\n",
       "    </tr>\n",
       "    <tr>\n",
       "      <th>28256</th>\n",
       "      <td>P35222</td>\n",
       "      <td>CTNNB1</td>\n",
       "      <td>Y30</td>\n",
       "      <td>sHWQQQsyLDsGIHs</td>\n",
       "      <td>ochoa|psp</td>\n",
       "      <td>0.780358</td>\n",
       "      <td>ERBB4,FGFR4,TNK1,JAK3,CSK,KIT,EPHA5,EGFR,JAK2,...</td>\n",
       "      <td>BMPR2_TYR,PTK2,SYK,ERBB4,PDHK1_TYR,EPHA3,PDHK4...</td>\n",
       "      <td>1.596045</td>\n",
       "      <td>2.796830</td>\n",
       "    </tr>\n",
       "    <tr>\n",
       "      <th>28257</th>\n",
       "      <td>P35222</td>\n",
       "      <td>CTNNB1</td>\n",
       "      <td>S33</td>\n",
       "      <td>QQQsyLDsGIHsGAT</td>\n",
       "      <td>psp</td>\n",
       "      <td>0.978753</td>\n",
       "      <td>GSK3B,IKKB,IKKA,GSK3A,TBK1,PAK4,GRK1,IKKE,P90R...</td>\n",
       "      <td>CK1G2,CK1A,CK1G3,GSK3A,GSK3B,GRK3,CK1A2,CK1D,J...</td>\n",
       "      <td>1.797053</td>\n",
       "      <td>8.479370</td>\n",
       "    </tr>\n",
       "    <tr>\n",
       "      <th>28258</th>\n",
       "      <td>P35222</td>\n",
       "      <td>CTNNB1</td>\n",
       "      <td>S37</td>\n",
       "      <td>yLDsGIHsGATtTAP</td>\n",
       "      <td>ochoa|psp</td>\n",
       "      <td>0.954689</td>\n",
       "      <td>GSK3A,PAK6,PAK5,GSK3B,TBK1,PAK4,PRKX,IKKB,ULK3...</td>\n",
       "      <td>GSK3A,GSK3B,CK1A,CK1G2,GRK7,IKKA,GRK4,GRK5,IKK...</td>\n",
       "      <td>1.795597</td>\n",
       "      <td>8.083523</td>\n",
       "    </tr>\n",
       "    <tr>\n",
       "      <th>28259</th>\n",
       "      <td>P35222</td>\n",
       "      <td>CTNNB1</td>\n",
       "      <td>T41</td>\n",
       "      <td>GIHsGATtTAPsLsG</td>\n",
       "      <td>psp</td>\n",
       "      <td>0.903105</td>\n",
       "      <td>MPSK1,GSK3B,PBK,GSK3A,MEK2,ASK1,LKB1,TNIK,MEKK...</td>\n",
       "      <td>GSK3A,GSK3B,PRP4,PASK,CK1G2,CK1A,GRK7,CK1D,CK1...</td>\n",
       "      <td>1.649193</td>\n",
       "      <td>7.866048</td>\n",
       "    </tr>\n",
       "    <tr>\n",
       "      <th>28260</th>\n",
       "      <td>P35222</td>\n",
       "      <td>CTNNB1</td>\n",
       "      <td>S45</td>\n",
       "      <td>GATtTAPsLsGKGNP</td>\n",
       "      <td>ochoa|psp</td>\n",
       "      <td>0.915674</td>\n",
       "      <td>TBK1,IKKE,PAK6,MTOR,PAK5,PRKX,RSK4,RSK2,CK1A,ULK3</td>\n",
       "      <td>CK1A,CK1G1,CK1D,CK1G2,MTOR,CK1E,CK1A2,CLK3,IKK...</td>\n",
       "      <td>2.044766</td>\n",
       "      <td>4.275749</td>\n",
       "    </tr>\n",
       "    <tr>\n",
       "      <th>28261</th>\n",
       "      <td>P35222</td>\n",
       "      <td>CTNNB1</td>\n",
       "      <td>S47</td>\n",
       "      <td>TtTAPsLsGKGNPEE</td>\n",
       "      <td>ochoa</td>\n",
       "      <td>0.556963</td>\n",
       "      <td>CK1G2,PAK5,PAK6,PRKX,PKACB,CK2A1,PRKD3,ULK3,RS...</td>\n",
       "      <td>MPSK1,CK1E,ERK5,GRK1,CK1D,COT,MOS,NLK,MLK3,ERK1</td>\n",
       "      <td>1.823853</td>\n",
       "      <td>2.982430</td>\n",
       "    </tr>\n",
       "    <tr>\n",
       "      <th>28262</th>\n",
       "      <td>P35222</td>\n",
       "      <td>CTNNB1</td>\n",
       "      <td>S60</td>\n",
       "      <td>EEEDVDTsQVLyEWE</td>\n",
       "      <td>psp</td>\n",
       "      <td>0.208932</td>\n",
       "      <td>ATM,ATR,GRK7,GRK1,BUB1B,CK2A2,GRK5,DNAPK,CK2A1...</td>\n",
       "      <td>ATM,ACVR2B,ACVR2A,GRK4,GRK7,CK1G2,PLK1,TLK2,PL...</td>\n",
       "      <td>2.656530</td>\n",
       "      <td>5.809839</td>\n",
       "    </tr>\n",
       "    <tr>\n",
       "      <th>28263</th>\n",
       "      <td>P35222</td>\n",
       "      <td>CTNNB1</td>\n",
       "      <td>Y64</td>\n",
       "      <td>VDTsQVLyEWEQGFS</td>\n",
       "      <td>psp</td>\n",
       "      <td>0.294942</td>\n",
       "      <td>TEC,BLK,EPHA4,BTK,SRMS,SYK,FES,EPHA7,EPHA6,FYN</td>\n",
       "      <td>SYK,MERTK,EPHA5,SRMS,EPHA4,FER,EPHA3,PTK6,FES,TEK</td>\n",
       "      <td>1.804839</td>\n",
       "      <td>2.871988</td>\n",
       "    </tr>\n",
       "    <tr>\n",
       "      <th>28264</th>\n",
       "      <td>P35222</td>\n",
       "      <td>CTNNB1</td>\n",
       "      <td>S73</td>\n",
       "      <td>WEQGFSQsFTQEQVA</td>\n",
       "      <td>psp</td>\n",
       "      <td>0.347105</td>\n",
       "      <td>BRSK2,IKKB,ULK3,TSSK1,NUAK1,PKACB,PRKX,NDR2,TB...</td>\n",
       "      <td>CAMK2G,ULK1,PLK1,PLK3,IKKA,CAMK2B,DSTYK,NEK2,I...</td>\n",
       "      <td>1.725664</td>\n",
       "      <td>2.099936</td>\n",
       "    </tr>\n",
       "    <tr>\n",
       "      <th>28265</th>\n",
       "      <td>P35222</td>\n",
       "      <td>CTNNB1</td>\n",
       "      <td>Y86</td>\n",
       "      <td>VADIDGQyAMTRAQR</td>\n",
       "      <td>psp</td>\n",
       "      <td>0.688526</td>\n",
       "      <td>JAK3,FGFR4,EGFR,TEK,KIT,FYN,BLK,LTK,TNK2,ABL1</td>\n",
       "      <td>ABL1,ABL2,MATK,BLK,FYN,FGR,MERTK,ZAP70,LCK,HCK</td>\n",
       "      <td>1.819756</td>\n",
       "      <td>2.467626</td>\n",
       "    </tr>\n",
       "    <tr>\n",
       "      <th>28266</th>\n",
       "      <td>P35222</td>\n",
       "      <td>CTNNB1</td>\n",
       "      <td>T102</td>\n",
       "      <td>RAAMFPEtLDEGMQI</td>\n",
       "      <td>psp</td>\n",
       "      <td>0.894711</td>\n",
       "      <td>TNIK,CK2A2,HGK,CAMKK1,MEKK3,NEK4,MINK,GCK,KHS1...</td>\n",
       "      <td>DNAPK,CK2A1,CK2A2,CAMK2G,PLK2,PLK3,CAMK2A,TGFB...</td>\n",
       "      <td>1.607649</td>\n",
       "      <td>3.374482</td>\n",
       "    </tr>\n",
       "    <tr>\n",
       "      <th>28267</th>\n",
       "      <td>P35222</td>\n",
       "      <td>CTNNB1</td>\n",
       "      <td>T112</td>\n",
       "      <td>EGMQIPStQFDAAHP</td>\n",
       "      <td>psp</td>\n",
       "      <td>0.663232</td>\n",
       "      <td>ATR,ATM,DNAPK,EEF2K,CAMKK2,PBK,ICK,MPSK1,OSR1,...</td>\n",
       "      <td>ATR,DNAPK,SMG1,P38D,MPSK1,ATM,ICK,EEF2K,TLK2,A...</td>\n",
       "      <td>1.758952</td>\n",
       "      <td>2.576788</td>\n",
       "    </tr>\n",
       "    <tr>\n",
       "      <th>28268</th>\n",
       "      <td>P35222</td>\n",
       "      <td>CTNNB1</td>\n",
       "      <td>T120</td>\n",
       "      <td>QFDAAHPtNVQRLAE</td>\n",
       "      <td>psp</td>\n",
       "      <td>0.878526</td>\n",
       "      <td>PBK,LKB1,CAMKK1,OSR1,TNIK,EEF2K,ROCK2,NEK4,MIN...</td>\n",
       "      <td>MPSK1,TAK1,PINK1,VRK1,YANK2,GAK,GSK3A,PASK,ROC...</td>\n",
       "      <td>1.595444</td>\n",
       "      <td>1.445671</td>\n",
       "    </tr>\n",
       "    <tr>\n",
       "      <th>28269</th>\n",
       "      <td>P35222</td>\n",
       "      <td>CTNNB1</td>\n",
       "      <td>Y142</td>\n",
       "      <td>AVVNLINyQDDAELA</td>\n",
       "      <td>psp</td>\n",
       "      <td>0.980268</td>\n",
       "      <td>EPHA4,ATR,EPHA6,EPHA7,EPHB1,EPHA3,EPHB2,EPHA8,...</td>\n",
       "      <td>PDHK3_TYR,EPHA4,PDHK4_TYR,EPHA5,EPHA3,PDHK1_TY...</td>\n",
       "      <td>1.930682</td>\n",
       "      <td>0.982576</td>\n",
       "    </tr>\n",
       "    <tr>\n",
       "      <th>28270</th>\n",
       "      <td>P35222</td>\n",
       "      <td>CTNNB1</td>\n",
       "      <td>S184</td>\n",
       "      <td>QLSKKEAsRHAIMRs</td>\n",
       "      <td>psp</td>\n",
       "      <td>0.927547</td>\n",
       "      <td>PAK4,TSSK1,BRSK2,MNK2,PAK6,PKN2,MARK2,NUAK1,DC...</td>\n",
       "      <td>SSTK,DCAMKL1,BRSK2,TSSK1,BRSK1,TLK1,TSSK2,AMPK...</td>\n",
       "      <td>1.935281</td>\n",
       "      <td>4.978343</td>\n",
       "    </tr>\n",
       "    <tr>\n",
       "      <th>28271</th>\n",
       "      <td>P35222</td>\n",
       "      <td>CTNNB1</td>\n",
       "      <td>S191</td>\n",
       "      <td>sRHAIMRsPQMVSAI</td>\n",
       "      <td>ochoa|psp</td>\n",
       "      <td>0.811158</td>\n",
       "      <td>CDK4,ERK2,DYRK1A,CDK1,HIPK3,CDK2,CDK5,ERK1,DYR...</td>\n",
       "      <td>CDK17,CDK16,CDK14,CDK18,ERK1,ERK2,P38G,CDK9,CD...</td>\n",
       "      <td>2.070521</td>\n",
       "      <td>4.814151</td>\n",
       "    </tr>\n",
       "    <tr>\n",
       "      <th>28272</th>\n",
       "      <td>P35222</td>\n",
       "      <td>CTNNB1</td>\n",
       "      <td>S246</td>\n",
       "      <td>ALVKMLGsPVDSVLF</td>\n",
       "      <td>psp</td>\n",
       "      <td>0.772711</td>\n",
       "      <td>CDK4,CDK1,CDK2,CDK5,ERK2,CDK3,JNK1,ERK1,DYRK4,...</td>\n",
       "      <td>JNK1,JNK2,P38D,JNK3,P38G,P38B,P38A,CDK8,NLK,CDK14</td>\n",
       "      <td>2.267036</td>\n",
       "      <td>6.378471</td>\n",
       "    </tr>\n",
       "    <tr>\n",
       "      <th>28273</th>\n",
       "      <td>P35222</td>\n",
       "      <td>CTNNB1</td>\n",
       "      <td>T298</td>\n",
       "      <td>VKFLAITtDCLQILA</td>\n",
       "      <td>psp</td>\n",
       "      <td>0.972658</td>\n",
       "      <td>PBK,LKB1,TNIK,NEK4,MST2,MINK,CAMKK1,MST1,NEK1,HGK</td>\n",
       "      <td>MEK1,GSK3B,MOS,DAPK2,ALK4,ACVR2B,ACVR2A,MEK2,B...</td>\n",
       "      <td>1.589268</td>\n",
       "      <td>0.414628</td>\n",
       "    </tr>\n",
       "    <tr>\n",
       "      <th>28274</th>\n",
       "      <td>P35222</td>\n",
       "      <td>CTNNB1</td>\n",
       "      <td>S311</td>\n",
       "      <td>LAYGNQEsKLIILAS</td>\n",
       "      <td>psp</td>\n",
       "      <td>0.972500</td>\n",
       "      <td>TSSK1,NIM1,QIK,TSSK2,MARK2,MARK1,CAMK1D,MARK3,...</td>\n",
       "      <td>IRE2,SKMLCK,TSSK1,SSTK,SMMLCK,TLK1,TSSK2,MELK,...</td>\n",
       "      <td>1.821695</td>\n",
       "      <td>2.632692</td>\n",
       "    </tr>\n",
       "    <tr>\n",
       "      <th>28275</th>\n",
       "      <td>P35222</td>\n",
       "      <td>CTNNB1</td>\n",
       "      <td>Y331</td>\n",
       "      <td>LVNIMRTytyEKLLW</td>\n",
       "      <td>psp</td>\n",
       "      <td>0.837516</td>\n",
       "      <td>DDR2,FGFR4,EPHB1,LCK,RET,EPHA8,FES,EPHA4,EPHA5...</td>\n",
       "      <td>PTK2,EPHA4,EPHA7,EPHA3,EPHA6,PTK2B,BMPR2_TYR,S...</td>\n",
       "      <td>1.629153</td>\n",
       "      <td>4.126294</td>\n",
       "    </tr>\n",
       "    <tr>\n",
       "      <th>28276</th>\n",
       "      <td>P35222</td>\n",
       "      <td>CTNNB1</td>\n",
       "      <td>T332</td>\n",
       "      <td>VNIMRTytyEKLLWT</td>\n",
       "      <td>psp</td>\n",
       "      <td>0.408153</td>\n",
       "      <td>AKT1,PBK,AMPKA1,LRRK2,CHK2,LKB1,TNIK,GCK,ROCK2...</td>\n",
       "      <td>ALPHAK3,YANK2,PASK,GRK7,SBK,YANK3,MAPKAPK2,NUA...</td>\n",
       "      <td>1.434642</td>\n",
       "      <td>4.102963</td>\n",
       "    </tr>\n",
       "    <tr>\n",
       "      <th>28277</th>\n",
       "      <td>P35222</td>\n",
       "      <td>CTNNB1</td>\n",
       "      <td>Y333</td>\n",
       "      <td>NIMRTytyEKLLWTT</td>\n",
       "      <td>psp</td>\n",
       "      <td>0.982195</td>\n",
       "      <td>EPHA1,EPHA7,EPHA2,BLK,TNK2,SRMS,EPHA4,LTK,EPHA...</td>\n",
       "      <td>SYK,BLK,EPHA6,EPHA4,FRK,PTK2,ZAP70,ERBB4,EPHA8...</td>\n",
       "      <td>1.711815</td>\n",
       "      <td>3.995439</td>\n",
       "    </tr>\n",
       "    <tr>\n",
       "      <th>28278</th>\n",
       "      <td>P35222</td>\n",
       "      <td>CTNNB1</td>\n",
       "      <td>S352</td>\n",
       "      <td>KVLSVCSsNKPAIVE</td>\n",
       "      <td>psp</td>\n",
       "      <td>0.839116</td>\n",
       "      <td>PRKD2,PRKD3,HIPK4,PRKD1,MAPKAPK3,TSSK2,CAMK4,M...</td>\n",
       "      <td>BUB1,HIPK4,PRKD1,PRKD2,PRKD3,CDK18,KIS,PERK,ML...</td>\n",
       "      <td>2.003260</td>\n",
       "      <td>2.875428</td>\n",
       "    </tr>\n",
       "    <tr>\n",
       "      <th>28279</th>\n",
       "      <td>P35222</td>\n",
       "      <td>CTNNB1</td>\n",
       "      <td>T371</td>\n",
       "      <td>QALGLHLtDPsQRLV</td>\n",
       "      <td>psp</td>\n",
       "      <td>0.286979</td>\n",
       "      <td>PBK,LKB1,NEK4,TNIK,CAMKK1,MEKK3,CAMKK2,MINK,GC...</td>\n",
       "      <td>SMG1,MEK1,MEK2,ACVR2B,CK2A1,GSK3B,MOS,DAPK2,BU...</td>\n",
       "      <td>1.658914</td>\n",
       "      <td>1.683408</td>\n",
       "    </tr>\n",
       "    <tr>\n",
       "      <th>28280</th>\n",
       "      <td>P35222</td>\n",
       "      <td>CTNNB1</td>\n",
       "      <td>S374</td>\n",
       "      <td>GLHLtDPsQRLVQNC</td>\n",
       "      <td>psp</td>\n",
       "      <td>0.960511</td>\n",
       "      <td>ATR,ATM,DNAPK,ERK7,NIM1,TSSK2,LATS1,PKCA,DSTYK...</td>\n",
       "      <td>CK1G3,CK1D,CK1A,CK1E,CK1A2,CK1G2,CK1G1,KIS,TGF...</td>\n",
       "      <td>2.421310</td>\n",
       "      <td>5.546010</td>\n",
       "    </tr>\n",
       "    <tr>\n",
       "      <th>28281</th>\n",
       "      <td>P35222</td>\n",
       "      <td>CTNNB1</td>\n",
       "      <td>T384</td>\n",
       "      <td>LVQNCLWtLRNLSDA</td>\n",
       "      <td>psp</td>\n",
       "      <td>0.945400</td>\n",
       "      <td>CAMKK1,MINK,TNIK,CAMKK2,MST1,ERK7,NEK4,HGK,LKB...</td>\n",
       "      <td>ERK7,TAK1,NEK4,MST1,HPK1,NEK8,CAMKK1,IRAK1,NEK...</td>\n",
       "      <td>1.728943</td>\n",
       "      <td>2.678529</td>\n",
       "    </tr>\n",
       "    <tr>\n",
       "      <th>28282</th>\n",
       "      <td>P35222</td>\n",
       "      <td>CTNNB1</td>\n",
       "      <td>T393</td>\n",
       "      <td>RNLSDAAtKQEGMEG</td>\n",
       "      <td>psp</td>\n",
       "      <td>0.846858</td>\n",
       "      <td>CK2A2,MEKK3,PBK,TNIK,CAMKK1,CAMKK2,MINK,MST1,M...</td>\n",
       "      <td>GSK3A,CK1G3,TLK1,TSSK2,TLK2,GRK7,ALPHAK3,GSK3B...</td>\n",
       "      <td>1.609937</td>\n",
       "      <td>1.804045</td>\n",
       "    </tr>\n",
       "    <tr>\n",
       "      <th>28283</th>\n",
       "      <td>P35222</td>\n",
       "      <td>CTNNB1</td>\n",
       "      <td>T472</td>\n",
       "      <td>ICALRHLtSRHQEAE</td>\n",
       "      <td>psp</td>\n",
       "      <td>0.988368</td>\n",
       "      <td>AKT1,ROCK1,ROCK2,SGK1,ERK7,MRCKB,PBK,AKT3,MST1...</td>\n",
       "      <td>PIM2,PKN1,ROCK1,MRCKB,PKCE,AKT3,LOK,AKT1,SGK1,...</td>\n",
       "      <td>1.585884</td>\n",
       "      <td>4.709928</td>\n",
       "    </tr>\n",
       "    <tr>\n",
       "      <th>28284</th>\n",
       "      <td>P35222</td>\n",
       "      <td>CTNNB1</td>\n",
       "      <td>Y489</td>\n",
       "      <td>QNAVRLHyGLPVVVK</td>\n",
       "      <td>ochoa|psp</td>\n",
       "      <td>0.690221</td>\n",
       "      <td>CSK,PTK6,TNK1,TNK2,ABL1,PTK2B,LTK,TYRO3,LCK,PD...</td>\n",
       "      <td>ABL1,PTK2B,ABL2,PKMYT1_TYR,TNK2,FER,TNK1,PTK6,...</td>\n",
       "      <td>1.824113</td>\n",
       "      <td>2.370134</td>\n",
       "    </tr>\n",
       "    <tr>\n",
       "      <th>28285</th>\n",
       "      <td>P35222</td>\n",
       "      <td>CTNNB1</td>\n",
       "      <td>T547</td>\n",
       "      <td>LVRAHQDtQRRtsMG</td>\n",
       "      <td>ochoa</td>\n",
       "      <td>0.646316</td>\n",
       "      <td>ATR,OSR1,ATM,DNAPK,TNIK,MINK,ERK7,HGK,EEF2K,LKB1</td>\n",
       "      <td>GSK3B,GSK3A,EEF2K,OSR1,PIM1,MLK4,PKCB,CAMK2A,E...</td>\n",
       "      <td>1.709029</td>\n",
       "      <td>5.511960</td>\n",
       "    </tr>\n",
       "    <tr>\n",
       "      <th>28286</th>\n",
       "      <td>P35222</td>\n",
       "      <td>CTNNB1</td>\n",
       "      <td>T551</td>\n",
       "      <td>HQDtQRRtsMGGtQQ</td>\n",
       "      <td>ochoa|psp</td>\n",
       "      <td>0.402405</td>\n",
       "      <td>LKB1,PBK,ROCK1,OSR1,TNIK,ROCK2,AURB,ASK1,HASPI...</td>\n",
       "      <td>DAPK1,DAPK3,CK1G2,GRK2,GRK3,AURA,CK1A,CK1A2,CK...</td>\n",
       "      <td>1.511777</td>\n",
       "      <td>4.392697</td>\n",
       "    </tr>\n",
       "    <tr>\n",
       "      <th>28287</th>\n",
       "      <td>P35222</td>\n",
       "      <td>CTNNB1</td>\n",
       "      <td>S552</td>\n",
       "      <td>QDtQRRtsMGGtQQQ</td>\n",
       "      <td>ochoa|psp</td>\n",
       "      <td>0.596179</td>\n",
       "      <td>PRKX,PKACA,PKACB,AKT1,PKG2,PKG1,AURB,AURC,AKT3...</td>\n",
       "      <td>AURA,PRKX,CLK2,GSK3B,PKACB,MSK1,AURC,GSK3A,DAP...</td>\n",
       "      <td>2.333742</td>\n",
       "      <td>7.778372</td>\n",
       "    </tr>\n",
       "    <tr>\n",
       "      <th>28288</th>\n",
       "      <td>P35222</td>\n",
       "      <td>CTNNB1</td>\n",
       "      <td>T556</td>\n",
       "      <td>RRtsMGGtQQQFVEG</td>\n",
       "      <td>ochoa|psp</td>\n",
       "      <td>0.330547</td>\n",
       "      <td>ATR,ATM,DNAPK,OSR1,PBK,HASPIN,TNIK,GCK,HGK,MINK</td>\n",
       "      <td>ATR,DNAPK,SMG1,CK1G3,ATM,TLK2,NEK5,CK1D,MEKK2,...</td>\n",
       "      <td>1.792496</td>\n",
       "      <td>3.552549</td>\n",
       "    </tr>\n",
       "    <tr>\n",
       "      <th>28289</th>\n",
       "      <td>P35222</td>\n",
       "      <td>CTNNB1</td>\n",
       "      <td>S605</td>\n",
       "      <td>LFVQLLYsPIENIQR</td>\n",
       "      <td>psp</td>\n",
       "      <td>0.744484</td>\n",
       "      <td>CDK1,CDK4,CDK5,CDK2,CDK3,ERK2,ERK1,JNK1,P38G,JNK2</td>\n",
       "      <td>JNK1,JNK3,JNK2,P38D,P38G,P38B,ERK5,ERK2,ERK1,D...</td>\n",
       "      <td>2.161258</td>\n",
       "      <td>5.347646</td>\n",
       "    </tr>\n",
       "    <tr>\n",
       "      <th>28290</th>\n",
       "      <td>P35222</td>\n",
       "      <td>CTNNB1</td>\n",
       "      <td>S646</td>\n",
       "      <td>PLTELLHsRNEGVAt</td>\n",
       "      <td>psp</td>\n",
       "      <td>0.956311</td>\n",
       "      <td>CK2A2,CK2A1,IKKB,GRK1,GRK7,PAK4,IKKA,ULK3,P90R...</td>\n",
       "      <td>GRK6,PINK1,NEK9,PLK2,CAMKK1,NEK7,PLK3,GRK5,COT...</td>\n",
       "      <td>2.018886</td>\n",
       "      <td>2.662771</td>\n",
       "    </tr>\n",
       "    <tr>\n",
       "      <th>28291</th>\n",
       "      <td>P35222</td>\n",
       "      <td>CTNNB1</td>\n",
       "      <td>T653</td>\n",
       "      <td>sRNEGVAtyAAAVLF</td>\n",
       "      <td>ochoa|psp</td>\n",
       "      <td>0.986426</td>\n",
       "      <td>TNIK,PBK,OSR1,TAO2,MINK,MST1,KHS1,MST2,GCK,TAO1</td>\n",
       "      <td>GRK7,PRP4,TGFBR1,ALK4,JNK1,P38G,P38B,ACVR2B,BM...</td>\n",
       "      <td>1.631637</td>\n",
       "      <td>2.709797</td>\n",
       "    </tr>\n",
       "    <tr>\n",
       "      <th>28292</th>\n",
       "      <td>P35222</td>\n",
       "      <td>CTNNB1</td>\n",
       "      <td>Y654</td>\n",
       "      <td>RNEGVAtyAAAVLFR</td>\n",
       "      <td>ochoa|psp</td>\n",
       "      <td>0.993016</td>\n",
       "      <td>EPHA7,EPHA4,TXK,CSK,LTK,BTK,EPHB3,LYN,EPHA1,BLK</td>\n",
       "      <td>PTK2,EPHA6,EPHB2,BLK,FYN,ZAP70,ABL2,ABL1,SYK,LCK</td>\n",
       "      <td>1.929364</td>\n",
       "      <td>3.188853</td>\n",
       "    </tr>\n",
       "    <tr>\n",
       "      <th>28293</th>\n",
       "      <td>P35222</td>\n",
       "      <td>CTNNB1</td>\n",
       "      <td>Y670</td>\n",
       "      <td>SEDKPQDyKKRLsVE</td>\n",
       "      <td>psp</td>\n",
       "      <td>0.954805</td>\n",
       "      <td>FLT1,SYK,PTK2,KIT,CSF1R,EPHA4,EPHA6,JAK2,EPHA2...</td>\n",
       "      <td>PDHK4_TYR,WEE1_TYR,TNNI3K_TYR,BMPR2_TYR,PDHK3_...</td>\n",
       "      <td>1.951307</td>\n",
       "      <td>1.536509</td>\n",
       "    </tr>\n",
       "    <tr>\n",
       "      <th>28294</th>\n",
       "      <td>P35222</td>\n",
       "      <td>CTNNB1</td>\n",
       "      <td>S675</td>\n",
       "      <td>QDyKKRLsVELtssL</td>\n",
       "      <td>ochoa|psp</td>\n",
       "      <td>0.980063</td>\n",
       "      <td>PAK4,PAK6,PAK5,PKACA,AURB,PAK1,PKG2,PRKX,PAK2,...</td>\n",
       "      <td>GSK3B,AURA,MYLK4,MSK1,CLK4,PKACA,DAPK1,SKMLCK,...</td>\n",
       "      <td>2.388692</td>\n",
       "      <td>6.234278</td>\n",
       "    </tr>\n",
       "    <tr>\n",
       "      <th>28295</th>\n",
       "      <td>P35222</td>\n",
       "      <td>CTNNB1</td>\n",
       "      <td>T679</td>\n",
       "      <td>KRLsVELtssLFRTE</td>\n",
       "      <td>ochoa</td>\n",
       "      <td>0.953053</td>\n",
       "      <td>TGFBR1,BMPR1B,ALK2,PBK,CAMKK2,ALK4,OSR1,PERK,T...</td>\n",
       "      <td>BMPR1B,BMPR1A,ACVR2B,ACVR2A,TGFBR1,GRK2,GRK3,A...</td>\n",
       "      <td>1.719372</td>\n",
       "      <td>6.180493</td>\n",
       "    </tr>\n",
       "    <tr>\n",
       "      <th>28296</th>\n",
       "      <td>P35222</td>\n",
       "      <td>CTNNB1</td>\n",
       "      <td>S680</td>\n",
       "      <td>RLsVELtssLFRTEP</td>\n",
       "      <td>ochoa</td>\n",
       "      <td>0.810021</td>\n",
       "      <td>IKKB,GRK7,CLK3,CK1G1,CDK7,CK1G3,P90RSK,RSK4,CK...</td>\n",
       "      <td>CK1G2,CK1A,GRK2,CK1E,GRK3,CK1A2,CK1D,CK1G3,ACV...</td>\n",
       "      <td>1.845225</td>\n",
       "      <td>4.125982</td>\n",
       "    </tr>\n",
       "    <tr>\n",
       "      <th>28297</th>\n",
       "      <td>P35222</td>\n",
       "      <td>CTNNB1</td>\n",
       "      <td>S681</td>\n",
       "      <td>LsVELtssLFRTEPM</td>\n",
       "      <td>ochoa</td>\n",
       "      <td>0.905768</td>\n",
       "      <td>ULK3,CLK3,TBK1,MTOR,IKKE,DSTYK,IKKB,NEK7,NEK6,...</td>\n",
       "      <td>CK1G2,CK1D,CK1E,CK1A2,CK1A,GRK1,CK1G3,GRK3,GRK...</td>\n",
       "      <td>1.881727</td>\n",
       "      <td>4.856114</td>\n",
       "    </tr>\n",
       "    <tr>\n",
       "      <th>28298</th>\n",
       "      <td>P35222</td>\n",
       "      <td>CTNNB1</td>\n",
       "      <td>S715</td>\n",
       "      <td>GYRQDDPsyRsFHSG</td>\n",
       "      <td>ochoa|psp</td>\n",
       "      <td>0.276474</td>\n",
       "      <td>CK1G2,CK1G3,ERK7,CK1G1,AKT1,CK1A,RSK4,P90RSK,T...</td>\n",
       "      <td>GRK7,CK1G2,CLK3,GRK3,CK1G3,GRK2,ACVR2A,GSK3A,L...</td>\n",
       "      <td>1.845451</td>\n",
       "      <td>5.621210</td>\n",
       "    </tr>\n",
       "    <tr>\n",
       "      <th>28299</th>\n",
       "      <td>P35222</td>\n",
       "      <td>CTNNB1</td>\n",
       "      <td>Y716</td>\n",
       "      <td>YRQDDPsyRsFHSGG</td>\n",
       "      <td>ochoa</td>\n",
       "      <td>0.276789</td>\n",
       "      <td>KIT,EGFR,JAK1,FGFR4,FLT3,CSF1R,FYN,ABL1,TEK,FLT1</td>\n",
       "      <td>PTK2,FYN,ERBB4,FLT1,SYK,ZAP70,SRC,BLK,MET,LCK</td>\n",
       "      <td>1.730527</td>\n",
       "      <td>6.357552</td>\n",
       "    </tr>\n",
       "    <tr>\n",
       "      <th>28300</th>\n",
       "      <td>P35222</td>\n",
       "      <td>CTNNB1</td>\n",
       "      <td>S718</td>\n",
       "      <td>QDDPsyRsFHSGGYG</td>\n",
       "      <td>psp</td>\n",
       "      <td>0.365442</td>\n",
       "      <td>IKKA,TBK1,IKKB,CK1A,PAK5,CK1G2,PAK6,ULK3,MNK2,...</td>\n",
       "      <td>CK1G2,CK1G3,CK1A,YANK2,GRK3,CK1G1,YANK3,CK1A2,...</td>\n",
       "      <td>1.670313</td>\n",
       "      <td>10.234688</td>\n",
       "    </tr>\n",
       "  </tbody>\n",
       "</table>\n",
       "</div>"
      ],
      "text/plain": [
       "      uniprot    gene  site         site_seq     source  AM_pathogenicity  \\\n",
       "28253  P35222  CTNNB1    T3  _____MAtQADLMEL      ochoa          0.350216   \n",
       "28254  P35222  CTNNB1   S23  PDRKAAVsHWQQQsy        psp          0.434195   \n",
       "28255  P35222  CTNNB1   S29  VsHWQQQsyLDsGIH  ochoa|psp          0.628389   \n",
       "28256  P35222  CTNNB1   Y30  sHWQQQsyLDsGIHs  ochoa|psp          0.780358   \n",
       "28257  P35222  CTNNB1   S33  QQQsyLDsGIHsGAT        psp          0.978753   \n",
       "28258  P35222  CTNNB1   S37  yLDsGIHsGATtTAP  ochoa|psp          0.954689   \n",
       "28259  P35222  CTNNB1   T41  GIHsGATtTAPsLsG        psp          0.903105   \n",
       "28260  P35222  CTNNB1   S45  GATtTAPsLsGKGNP  ochoa|psp          0.915674   \n",
       "28261  P35222  CTNNB1   S47  TtTAPsLsGKGNPEE      ochoa          0.556963   \n",
       "28262  P35222  CTNNB1   S60  EEEDVDTsQVLyEWE        psp          0.208932   \n",
       "28263  P35222  CTNNB1   Y64  VDTsQVLyEWEQGFS        psp          0.294942   \n",
       "28264  P35222  CTNNB1   S73  WEQGFSQsFTQEQVA        psp          0.347105   \n",
       "28265  P35222  CTNNB1   Y86  VADIDGQyAMTRAQR        psp          0.688526   \n",
       "28266  P35222  CTNNB1  T102  RAAMFPEtLDEGMQI        psp          0.894711   \n",
       "28267  P35222  CTNNB1  T112  EGMQIPStQFDAAHP        psp          0.663232   \n",
       "28268  P35222  CTNNB1  T120  QFDAAHPtNVQRLAE        psp          0.878526   \n",
       "28269  P35222  CTNNB1  Y142  AVVNLINyQDDAELA        psp          0.980268   \n",
       "28270  P35222  CTNNB1  S184  QLSKKEAsRHAIMRs        psp          0.927547   \n",
       "28271  P35222  CTNNB1  S191  sRHAIMRsPQMVSAI  ochoa|psp          0.811158   \n",
       "28272  P35222  CTNNB1  S246  ALVKMLGsPVDSVLF        psp          0.772711   \n",
       "28273  P35222  CTNNB1  T298  VKFLAITtDCLQILA        psp          0.972658   \n",
       "28274  P35222  CTNNB1  S311  LAYGNQEsKLIILAS        psp          0.972500   \n",
       "28275  P35222  CTNNB1  Y331  LVNIMRTytyEKLLW        psp          0.837516   \n",
       "28276  P35222  CTNNB1  T332  VNIMRTytyEKLLWT        psp          0.408153   \n",
       "28277  P35222  CTNNB1  Y333  NIMRTytyEKLLWTT        psp          0.982195   \n",
       "28278  P35222  CTNNB1  S352  KVLSVCSsNKPAIVE        psp          0.839116   \n",
       "28279  P35222  CTNNB1  T371  QALGLHLtDPsQRLV        psp          0.286979   \n",
       "28280  P35222  CTNNB1  S374  GLHLtDPsQRLVQNC        psp          0.960511   \n",
       "28281  P35222  CTNNB1  T384  LVQNCLWtLRNLSDA        psp          0.945400   \n",
       "28282  P35222  CTNNB1  T393  RNLSDAAtKQEGMEG        psp          0.846858   \n",
       "28283  P35222  CTNNB1  T472  ICALRHLtSRHQEAE        psp          0.988368   \n",
       "28284  P35222  CTNNB1  Y489  QNAVRLHyGLPVVVK  ochoa|psp          0.690221   \n",
       "28285  P35222  CTNNB1  T547  LVRAHQDtQRRtsMG      ochoa          0.646316   \n",
       "28286  P35222  CTNNB1  T551  HQDtQRRtsMGGtQQ  ochoa|psp          0.402405   \n",
       "28287  P35222  CTNNB1  S552  QDtQRRtsMGGtQQQ  ochoa|psp          0.596179   \n",
       "28288  P35222  CTNNB1  T556  RRtsMGGtQQQFVEG  ochoa|psp          0.330547   \n",
       "28289  P35222  CTNNB1  S605  LFVQLLYsPIENIQR        psp          0.744484   \n",
       "28290  P35222  CTNNB1  S646  PLTELLHsRNEGVAt        psp          0.956311   \n",
       "28291  P35222  CTNNB1  T653  sRNEGVAtyAAAVLF  ochoa|psp          0.986426   \n",
       "28292  P35222  CTNNB1  Y654  RNEGVAtyAAAVLFR  ochoa|psp          0.993016   \n",
       "28293  P35222  CTNNB1  Y670  SEDKPQDyKKRLsVE        psp          0.954805   \n",
       "28294  P35222  CTNNB1  S675  QDyKKRLsVELtssL  ochoa|psp          0.980063   \n",
       "28295  P35222  CTNNB1  T679  KRLsVELtssLFRTE      ochoa          0.953053   \n",
       "28296  P35222  CTNNB1  S680  RLsVELtssLFRTEP      ochoa          0.810021   \n",
       "28297  P35222  CTNNB1  S681  LsVELtssLFRTEPM      ochoa          0.905768   \n",
       "28298  P35222  CTNNB1  S715  GYRQDDPsyRsFHSG  ochoa|psp          0.276474   \n",
       "28299  P35222  CTNNB1  Y716  YRQDDPsyRsFHSGG      ochoa          0.276789   \n",
       "28300  P35222  CTNNB1  S718  QDDPsyRsFHSGGYG        psp          0.365442   \n",
       "\n",
       "                                                    CDDM  \\\n",
       "28253  ATR,ATM,DNAPK,CAMKK1,CAMKK2,PBK,ASK1,OSR1,TNIK...   \n",
       "28254  P90RSK,RSK4,MARK1,RSK2,AKT1,TSSK2,SGK1,P70S6K,...   \n",
       "28255  PAK4,CAMK1D,NIM1,LATS2,PAK5,TBK1,TSSK1,GRK7,NU...   \n",
       "28256  ERBB4,FGFR4,TNK1,JAK3,CSK,KIT,EPHA5,EGFR,JAK2,...   \n",
       "28257  GSK3B,IKKB,IKKA,GSK3A,TBK1,PAK4,GRK1,IKKE,P90R...   \n",
       "28258  GSK3A,PAK6,PAK5,GSK3B,TBK1,PAK4,PRKX,IKKB,ULK3...   \n",
       "28259  MPSK1,GSK3B,PBK,GSK3A,MEK2,ASK1,LKB1,TNIK,MEKK...   \n",
       "28260  TBK1,IKKE,PAK6,MTOR,PAK5,PRKX,RSK4,RSK2,CK1A,ULK3   \n",
       "28261  CK1G2,PAK5,PAK6,PRKX,PKACB,CK2A1,PRKD3,ULK3,RS...   \n",
       "28262  ATM,ATR,GRK7,GRK1,BUB1B,CK2A2,GRK5,DNAPK,CK2A1...   \n",
       "28263     TEC,BLK,EPHA4,BTK,SRMS,SYK,FES,EPHA7,EPHA6,FYN   \n",
       "28264  BRSK2,IKKB,ULK3,TSSK1,NUAK1,PKACB,PRKX,NDR2,TB...   \n",
       "28265      JAK3,FGFR4,EGFR,TEK,KIT,FYN,BLK,LTK,TNK2,ABL1   \n",
       "28266  TNIK,CK2A2,HGK,CAMKK1,MEKK3,NEK4,MINK,GCK,KHS1...   \n",
       "28267  ATR,ATM,DNAPK,EEF2K,CAMKK2,PBK,ICK,MPSK1,OSR1,...   \n",
       "28268  PBK,LKB1,CAMKK1,OSR1,TNIK,EEF2K,ROCK2,NEK4,MIN...   \n",
       "28269  EPHA4,ATR,EPHA6,EPHA7,EPHB1,EPHA3,EPHB2,EPHA8,...   \n",
       "28270  PAK4,TSSK1,BRSK2,MNK2,PAK6,PKN2,MARK2,NUAK1,DC...   \n",
       "28271  CDK4,ERK2,DYRK1A,CDK1,HIPK3,CDK2,CDK5,ERK1,DYR...   \n",
       "28272  CDK4,CDK1,CDK2,CDK5,ERK2,CDK3,JNK1,ERK1,DYRK4,...   \n",
       "28273  PBK,LKB1,TNIK,NEK4,MST2,MINK,CAMKK1,MST1,NEK1,HGK   \n",
       "28274  TSSK1,NIM1,QIK,TSSK2,MARK2,MARK1,CAMK1D,MARK3,...   \n",
       "28275  DDR2,FGFR4,EPHB1,LCK,RET,EPHA8,FES,EPHA4,EPHA5...   \n",
       "28276  AKT1,PBK,AMPKA1,LRRK2,CHK2,LKB1,TNIK,GCK,ROCK2...   \n",
       "28277  EPHA1,EPHA7,EPHA2,BLK,TNK2,SRMS,EPHA4,LTK,EPHA...   \n",
       "28278  PRKD2,PRKD3,HIPK4,PRKD1,MAPKAPK3,TSSK2,CAMK4,M...   \n",
       "28279  PBK,LKB1,NEK4,TNIK,CAMKK1,MEKK3,CAMKK2,MINK,GC...   \n",
       "28280  ATR,ATM,DNAPK,ERK7,NIM1,TSSK2,LATS1,PKCA,DSTYK...   \n",
       "28281  CAMKK1,MINK,TNIK,CAMKK2,MST1,ERK7,NEK4,HGK,LKB...   \n",
       "28282  CK2A2,MEKK3,PBK,TNIK,CAMKK1,CAMKK2,MINK,MST1,M...   \n",
       "28283  AKT1,ROCK1,ROCK2,SGK1,ERK7,MRCKB,PBK,AKT3,MST1...   \n",
       "28284  CSK,PTK6,TNK1,TNK2,ABL1,PTK2B,LTK,TYRO3,LCK,PD...   \n",
       "28285   ATR,OSR1,ATM,DNAPK,TNIK,MINK,ERK7,HGK,EEF2K,LKB1   \n",
       "28286  LKB1,PBK,ROCK1,OSR1,TNIK,ROCK2,AURB,ASK1,HASPI...   \n",
       "28287  PRKX,PKACA,PKACB,AKT1,PKG2,PKG1,AURB,AURC,AKT3...   \n",
       "28288    ATR,ATM,DNAPK,OSR1,PBK,HASPIN,TNIK,GCK,HGK,MINK   \n",
       "28289  CDK1,CDK4,CDK5,CDK2,CDK3,ERK2,ERK1,JNK1,P38G,JNK2   \n",
       "28290  CK2A2,CK2A1,IKKB,GRK1,GRK7,PAK4,IKKA,ULK3,P90R...   \n",
       "28291    TNIK,PBK,OSR1,TAO2,MINK,MST1,KHS1,MST2,GCK,TAO1   \n",
       "28292    EPHA7,EPHA4,TXK,CSK,LTK,BTK,EPHB3,LYN,EPHA1,BLK   \n",
       "28293  FLT1,SYK,PTK2,KIT,CSF1R,EPHA4,EPHA6,JAK2,EPHA2...   \n",
       "28294  PAK4,PAK6,PAK5,PKACA,AURB,PAK1,PKG2,PRKX,PAK2,...   \n",
       "28295  TGFBR1,BMPR1B,ALK2,PBK,CAMKK2,ALK4,OSR1,PERK,T...   \n",
       "28296  IKKB,GRK7,CLK3,CK1G1,CDK7,CK1G3,P90RSK,RSK4,CK...   \n",
       "28297  ULK3,CLK3,TBK1,MTOR,IKKE,DSTYK,IKKB,NEK7,NEK6,...   \n",
       "28298  CK1G2,CK1G3,ERK7,CK1G1,AKT1,CK1A,RSK4,P90RSK,T...   \n",
       "28299   KIT,EGFR,JAK1,FGFR4,FLT3,CSF1R,FYN,ABL1,TEK,FLT1   \n",
       "28300  IKKA,TBK1,IKKB,CK1A,PAK5,CK1G2,PAK6,ULK3,MNK2,...   \n",
       "\n",
       "                                                    PSPA  CDDM_max_score  \\\n",
       "28253  MARK1,MARK2,DNAPK,ATR,SMG1,HUNK,QSK,MARK3,MARK...        1.685871   \n",
       "28254  SSTK,BRSK1,PRKD3,BRSK2,P70S6K,SNRK,MARK3,MAPKA...        1.795827   \n",
       "28255  GSK3A,GSK3B,LATS2,MAPKAPK2,CAMK2A,CAMK2B,LATS1...        1.693298   \n",
       "28256  BMPR2_TYR,PTK2,SYK,ERBB4,PDHK1_TYR,EPHA3,PDHK4...        1.596045   \n",
       "28257  CK1G2,CK1A,CK1G3,GSK3A,GSK3B,GRK3,CK1A2,CK1D,J...        1.797053   \n",
       "28258  GSK3A,GSK3B,CK1A,CK1G2,GRK7,IKKA,GRK4,GRK5,IKK...        1.795597   \n",
       "28259  GSK3A,GSK3B,PRP4,PASK,CK1G2,CK1A,GRK7,CK1D,CK1...        1.649193   \n",
       "28260  CK1A,CK1G1,CK1D,CK1G2,MTOR,CK1E,CK1A2,CLK3,IKK...        2.044766   \n",
       "28261    MPSK1,CK1E,ERK5,GRK1,CK1D,COT,MOS,NLK,MLK3,ERK1        1.823853   \n",
       "28262  ATM,ACVR2B,ACVR2A,GRK4,GRK7,CK1G2,PLK1,TLK2,PL...        2.656530   \n",
       "28263  SYK,MERTK,EPHA5,SRMS,EPHA4,FER,EPHA3,PTK6,FES,TEK        1.804839   \n",
       "28264  CAMK2G,ULK1,PLK1,PLK3,IKKA,CAMK2B,DSTYK,NEK2,I...        1.725664   \n",
       "28265     ABL1,ABL2,MATK,BLK,FYN,FGR,MERTK,ZAP70,LCK,HCK        1.819756   \n",
       "28266  DNAPK,CK2A1,CK2A2,CAMK2G,PLK2,PLK3,CAMK2A,TGFB...        1.607649   \n",
       "28267  ATR,DNAPK,SMG1,P38D,MPSK1,ATM,ICK,EEF2K,TLK2,A...        1.758952   \n",
       "28268  MPSK1,TAK1,PINK1,VRK1,YANK2,GAK,GSK3A,PASK,ROC...        1.595444   \n",
       "28269  PDHK3_TYR,EPHA4,PDHK4_TYR,EPHA5,EPHA3,PDHK1_TY...        1.930682   \n",
       "28270  SSTK,DCAMKL1,BRSK2,TSSK1,BRSK1,TLK1,TSSK2,AMPK...        1.935281   \n",
       "28271  CDK17,CDK16,CDK14,CDK18,ERK1,ERK2,P38G,CDK9,CD...        2.070521   \n",
       "28272  JNK1,JNK2,P38D,JNK3,P38G,P38B,P38A,CDK8,NLK,CDK14        2.267036   \n",
       "28273  MEK1,GSK3B,MOS,DAPK2,ALK4,ACVR2B,ACVR2A,MEK2,B...        1.589268   \n",
       "28274  IRE2,SKMLCK,TSSK1,SSTK,SMMLCK,TLK1,TSSK2,MELK,...        1.821695   \n",
       "28275  PTK2,EPHA4,EPHA7,EPHA3,EPHA6,PTK2B,BMPR2_TYR,S...        1.629153   \n",
       "28276  ALPHAK3,YANK2,PASK,GRK7,SBK,YANK3,MAPKAPK2,NUA...        1.434642   \n",
       "28277  SYK,BLK,EPHA6,EPHA4,FRK,PTK2,ZAP70,ERBB4,EPHA8...        1.711815   \n",
       "28278  BUB1,HIPK4,PRKD1,PRKD2,PRKD3,CDK18,KIS,PERK,ML...        2.003260   \n",
       "28279  SMG1,MEK1,MEK2,ACVR2B,CK2A1,GSK3B,MOS,DAPK2,BU...        1.658914   \n",
       "28280  CK1G3,CK1D,CK1A,CK1E,CK1A2,CK1G2,CK1G1,KIS,TGF...        2.421310   \n",
       "28281  ERK7,TAK1,NEK4,MST1,HPK1,NEK8,CAMKK1,IRAK1,NEK...        1.728943   \n",
       "28282  GSK3A,CK1G3,TLK1,TSSK2,TLK2,GRK7,ALPHAK3,GSK3B...        1.609937   \n",
       "28283  PIM2,PKN1,ROCK1,MRCKB,PKCE,AKT3,LOK,AKT1,SGK1,...        1.585884   \n",
       "28284  ABL1,PTK2B,ABL2,PKMYT1_TYR,TNK2,FER,TNK1,PTK6,...        1.824113   \n",
       "28285  GSK3B,GSK3A,EEF2K,OSR1,PIM1,MLK4,PKCB,CAMK2A,E...        1.709029   \n",
       "28286  DAPK1,DAPK3,CK1G2,GRK2,GRK3,AURA,CK1A,CK1A2,CK...        1.511777   \n",
       "28287  AURA,PRKX,CLK2,GSK3B,PKACB,MSK1,AURC,GSK3A,DAP...        2.333742   \n",
       "28288  ATR,DNAPK,SMG1,CK1G3,ATM,TLK2,NEK5,CK1D,MEKK2,...        1.792496   \n",
       "28289  JNK1,JNK3,JNK2,P38D,P38G,P38B,ERK5,ERK2,ERK1,D...        2.161258   \n",
       "28290  GRK6,PINK1,NEK9,PLK2,CAMKK1,NEK7,PLK3,GRK5,COT...        2.018886   \n",
       "28291  GRK7,PRP4,TGFBR1,ALK4,JNK1,P38G,P38B,ACVR2B,BM...        1.631637   \n",
       "28292   PTK2,EPHA6,EPHB2,BLK,FYN,ZAP70,ABL2,ABL1,SYK,LCK        1.929364   \n",
       "28293  PDHK4_TYR,WEE1_TYR,TNNI3K_TYR,BMPR2_TYR,PDHK3_...        1.951307   \n",
       "28294  GSK3B,AURA,MYLK4,MSK1,CLK4,PKACA,DAPK1,SKMLCK,...        2.388692   \n",
       "28295  BMPR1B,BMPR1A,ACVR2B,ACVR2A,TGFBR1,GRK2,GRK3,A...        1.719372   \n",
       "28296  CK1G2,CK1A,GRK2,CK1E,GRK3,CK1A2,CK1D,CK1G3,ACV...        1.845225   \n",
       "28297  CK1G2,CK1D,CK1E,CK1A2,CK1A,GRK1,CK1G3,GRK3,GRK...        1.881727   \n",
       "28298  GRK7,CK1G2,CLK3,GRK3,CK1G3,GRK2,ACVR2A,GSK3A,L...        1.845451   \n",
       "28299      PTK2,FYN,ERBB4,FLT1,SYK,ZAP70,SRC,BLK,MET,LCK        1.730527   \n",
       "28300  CK1G2,CK1G3,CK1A,YANK2,GRK3,CK1G1,YANK3,CK1A2,...        1.670313   \n",
       "\n",
       "       PSPA_max_score  \n",
       "28253        2.839518  \n",
       "28254        3.255439  \n",
       "28255        6.465129  \n",
       "28256        2.796830  \n",
       "28257        8.479370  \n",
       "28258        8.083523  \n",
       "28259        7.866048  \n",
       "28260        4.275749  \n",
       "28261        2.982430  \n",
       "28262        5.809839  \n",
       "28263        2.871988  \n",
       "28264        2.099936  \n",
       "28265        2.467626  \n",
       "28266        3.374482  \n",
       "28267        2.576788  \n",
       "28268        1.445671  \n",
       "28269        0.982576  \n",
       "28270        4.978343  \n",
       "28271        4.814151  \n",
       "28272        6.378471  \n",
       "28273        0.414628  \n",
       "28274        2.632692  \n",
       "28275        4.126294  \n",
       "28276        4.102963  \n",
       "28277        3.995439  \n",
       "28278        2.875428  \n",
       "28279        1.683408  \n",
       "28280        5.546010  \n",
       "28281        2.678529  \n",
       "28282        1.804045  \n",
       "28283        4.709928  \n",
       "28284        2.370134  \n",
       "28285        5.511960  \n",
       "28286        4.392697  \n",
       "28287        7.778372  \n",
       "28288        3.552549  \n",
       "28289        5.347646  \n",
       "28290        2.662771  \n",
       "28291        2.709797  \n",
       "28292        3.188853  \n",
       "28293        1.536509  \n",
       "28294        6.234278  \n",
       "28295        6.180493  \n",
       "28296        4.125982  \n",
       "28297        4.856114  \n",
       "28298        5.621210  \n",
       "28299        6.357552  \n",
       "28300       10.234688  "
      ]
     },
     "execution_count": 51,
     "metadata": {},
     "output_type": "execute_result"
    }
   ],
   "source": [
    "comb2[comb2.gene=='CTNNB1']"
   ]
  },
  {
   "cell_type": "markdown",
   "id": "5556f14f-4c3b-4c50-b7a3-b3bb52dc254c",
   "metadata": {},
   "source": [
    "## (code only) Add AlphaMissense score to each site"
   ]
  },
  {
   "cell_type": "markdown",
   "id": "a46de26b-ae9a-4b8f-abdb-86df196d30ad",
   "metadata": {},
   "source": [
    "The AM_mean.parquet file is too big to upload to the current repository. To generate the file, refer to `others_01_Process_AM.ipynb` notebook."
   ]
  },
  {
   "cell_type": "code",
   "execution_count": 22,
   "id": "ed0efaae-d2ae-4520-8e5f-c5abe3b50506",
   "metadata": {},
   "outputs": [],
   "source": [
    "df = pd.read_parquet('raw/AM_mean.parquet')"
   ]
  },
  {
   "cell_type": "code",
   "execution_count": 23,
   "id": "3c06fc40-3075-45f5-81fb-c35f81bd97df",
   "metadata": {},
   "outputs": [],
   "source": [
    "df.columns = ['uniprot','site','AM_pathogenicity','position']"
   ]
  },
  {
   "cell_type": "code",
   "execution_count": 24,
   "id": "a311a750-5c62-4664-a46c-5ff75a540786",
   "metadata": {},
   "outputs": [],
   "source": [
    "df = df.iloc[:,:3]"
   ]
  },
  {
   "cell_type": "markdown",
   "id": "6da0ebdd-2a9d-4379-9106-ecd6b20a56c2",
   "metadata": {},
   "source": [
    "The original:"
   ]
  },
  {
   "cell_type": "code",
   "execution_count": 12,
   "id": "7e4dde82-4da8-40f0-a49a-2fd8019f5fa9",
   "metadata": {},
   "outputs": [],
   "source": [
    "comb1 = Data.get_combine_site_psp_ochoa()"
   ]
  },
  {
   "cell_type": "code",
   "execution_count": 26,
   "id": "4c728414-1c7f-46b5-ac29-215b02bc43bd",
   "metadata": {},
   "outputs": [],
   "source": [
    "comb1=comb1.merge(df,how='left',on=['uniprot','site'])"
   ]
  },
  {
   "cell_type": "markdown",
   "id": "6af046bd-0ed6-4924-a860-56b50bd23c1c",
   "metadata": {},
   "source": [
    "The phosphorylated"
   ]
  },
  {
   "cell_type": "code",
   "execution_count": 13,
   "id": "dffa05ce-e3b2-4ef4-bcd9-b5f8b17bbc2c",
   "metadata": {},
   "outputs": [],
   "source": [
    "comb2 = Data.get_combine_site_phosphorylated()"
   ]
  },
  {
   "cell_type": "code",
   "execution_count": 32,
   "id": "d579faad-9981-4dec-9308-1e3d0bd59032",
   "metadata": {},
   "outputs": [],
   "source": [
    "comb2=comb2.merge(df,how='left',on=['uniprot','site'])"
   ]
  },
  {
   "cell_type": "markdown",
   "id": "a2633a55-dc45-4907-9126-cde4a000d8bf",
   "metadata": {},
   "source": [
    "## Add kinase prediction"
   ]
  },
  {
   "cell_type": "markdown",
   "id": "b7417754-57a0-46aa-ba1d-d3a1b8e012a1",
   "metadata": {},
   "source": [
    "for uppercase, only cddm"
   ]
  },
  {
   "cell_type": "code",
   "execution_count": 21,
   "id": "38be56b3-5ab6-4fff-b375-932daaf288ac",
   "metadata": {},
   "outputs": [],
   "source": [
    "comb1['site_seq'] = comb1['site_seq'].str.split('|').str[0] # only one site with one aa difference"
   ]
  },
  {
   "cell_type": "code",
   "execution_count": 45,
   "id": "c0508d89-a5c7-4d72-89b4-0a441689b1f5",
   "metadata": {},
   "outputs": [
    {
     "name": "stdout",
     "output_type": "stream",
     "text": [
      "input dataframe has a length 121419\n",
      "Preprocessing\n",
      "Finish preprocessing\n",
      "Calculating position: [-7, -6, -5, -4, -3, -2, -1, 0, 1, 2, 3, 4, 5, 6, 7]\n"
     ]
    },
    {
     "name": "stderr",
     "output_type": "stream",
     "text": [
      "100%|██████████| 289/289 [02:22<00:00,  2.03it/s]\n"
     ]
    }
   ],
   "source": [
    "cddm_upper = predict_kinase_df(comb1,'site_seq',**param_CDDM_upper)"
   ]
  },
  {
   "cell_type": "code",
   "execution_count": 24,
   "id": "3f978447-1921-4373-987b-6987cad5efa9",
   "metadata": {},
   "outputs": [],
   "source": [
    "def get_top(r, n):\n",
    "    top = r.sort_values(ascending=False)[:n].index\n",
    "    return ','.join(top)"
   ]
  },
  {
   "cell_type": "code",
   "execution_count": 25,
   "id": "f94b91a5-4c9f-4a41-abf5-d067b9d97e7d",
   "metadata": {},
   "outputs": [],
   "source": [
    "cddm_upper_rnk = cddm_upper.apply(lambda r: get_top(r,10),axis=1)"
   ]
  },
  {
   "cell_type": "code",
   "execution_count": 27,
   "id": "58b5c866-140f-49b2-bf09-0a7d80cef869",
   "metadata": {},
   "outputs": [],
   "source": [
    "comb1['CDDM_upper']=cddm_upper_rnk"
   ]
  },
  {
   "cell_type": "code",
   "execution_count": 46,
   "id": "f4c66f89-5d98-451d-afc4-3b5d8d24bda6",
   "metadata": {},
   "outputs": [],
   "source": [
    "comb1['CDDM_max_score'] = cddm_upper.max(1)"
   ]
  },
  {
   "cell_type": "markdown",
   "id": "217d1f7a-e916-4103-8653-ab9080705fee",
   "metadata": {},
   "source": [
    "Uncheck below to save:"
   ]
  },
  {
   "cell_type": "code",
   "execution_count": 1,
   "id": "c7b3e99c-fc47-4666-9519-8ffa746627b5",
   "metadata": {},
   "outputs": [],
   "source": [
    "# comb1.to_parquet('raw/combine_site_psp_ochoa.parquet')"
   ]
  },
  {
   "cell_type": "markdown",
   "id": "e35d35bd-28d4-4b59-941d-2fa4b9f7c845",
   "metadata": {},
   "source": [
    "For phosphorylated:"
   ]
  },
  {
   "cell_type": "code",
   "execution_count": 32,
   "id": "a09c189d-9ea0-4e37-b3b5-f9e6f9e0db49",
   "metadata": {},
   "outputs": [
    {
     "name": "stdout",
     "output_type": "stream",
     "text": [
      "input dataframe has a length 120104\n",
      "Preprocessing\n",
      "Finish preprocessing\n",
      "Calculating position: [-7, -6, -5, -4, -3, -2, -1, 0, 1, 2, 3, 4, 5, 6, 7]\n"
     ]
    },
    {
     "name": "stderr",
     "output_type": "stream",
     "text": [
      "100%|██████████| 289/289 [02:17<00:00,  2.11it/s]\n"
     ]
    }
   ],
   "source": [
    "cddm = predict_kinase_df(comb2,'site_seq',**param_CDDM)"
   ]
  },
  {
   "cell_type": "code",
   "execution_count": 33,
   "id": "f3060d13-6692-49b9-9fe2-3ad4b235d2c5",
   "metadata": {},
   "outputs": [
    {
     "name": "stdout",
     "output_type": "stream",
     "text": [
      "input dataframe has a length 120104\n",
      "Preprocessing\n",
      "Finish preprocessing\n",
      "Calculating position: [-5, -4, -3, -2, -1, 0, 1, 2, 3, 4, 5]\n"
     ]
    },
    {
     "name": "stderr",
     "output_type": "stream",
     "text": [
      "100%|██████████| 396/396 [04:16<00:00,  1.55it/s]\n"
     ]
    }
   ],
   "source": [
    "pspa = predict_kinase_df(comb2,'site_seq',**param_PSPA)"
   ]
  },
  {
   "cell_type": "code",
   "execution_count": 34,
   "id": "d4aba163-eab7-4cd6-add8-6150a769db82",
   "metadata": {},
   "outputs": [],
   "source": [
    "cddm_rnk = cddm.apply(lambda r: get_top(r,10),axis=1)\n",
    "pspa_rnk = pspa.apply(lambda r: get_top(r,10),axis=1)"
   ]
  },
  {
   "cell_type": "code",
   "execution_count": 35,
   "id": "ae86aa85-65bc-4db6-a396-de3fc21b3ebd",
   "metadata": {},
   "outputs": [],
   "source": [
    "comb2['CDDM']=cddm_rnk"
   ]
  },
  {
   "cell_type": "code",
   "execution_count": 39,
   "id": "3abfbf5a-8e42-468d-87bf-b658935a8eca",
   "metadata": {},
   "outputs": [],
   "source": [
    "comb2['PSPA']=pspa_rnk"
   ]
  },
  {
   "cell_type": "code",
   "execution_count": 47,
   "id": "483f985a-4363-4f3e-a1b1-617e0ad3cef9",
   "metadata": {},
   "outputs": [],
   "source": [
    "comb2['CDDM_max_score']=cddm.max(1)\n",
    "comb2['PSPA_max_score']=pspa.max(1)"
   ]
  },
  {
   "cell_type": "markdown",
   "id": "a7d57bdb-ba76-40fe-b33f-ac561c92eb38",
   "metadata": {},
   "source": [
    "To save and load:"
   ]
  },
  {
   "cell_type": "code",
   "execution_count": null,
   "id": "672302c6-d8af-44cb-8dbf-b3bb6ce2a7d1",
   "metadata": {},
   "outputs": [],
   "source": [
    "# comb2.to_parquet('raw/phosphorylated_combine_site.parquet')\n",
    "\n",
    "# comb2 = pd.read_parquet('raw/phosphorylated_combine_site.parquet')"
   ]
  },
  {
   "cell_type": "code",
   "execution_count": null,
   "id": "50234de2-2257-402c-9f0e-61da00a9ac33",
   "metadata": {},
   "outputs": [],
   "source": []
  }
 ],
 "metadata": {
  "kernelspec": {
   "display_name": "Python 3",
   "language": "python",
   "name": "python3"
  },
  "language_info": {
   "codemirror_mode": {
    "name": "ipython",
    "version": 3
   },
   "file_extension": ".py",
   "mimetype": "text/x-python",
   "name": "python",
   "nbconvert_exporter": "python",
   "pygments_lexer": "ipython3",
   "version": "3.10.10"
  }
 },
 "nbformat": 4,
 "nbformat_minor": 5
}
